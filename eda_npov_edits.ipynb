{
 "cells": [
  {
   "cell_type": "markdown",
   "metadata": {},
   "source": [
    "## EDA on NPOV edits  of Wikipedia Articles"
   ]
  },
  {
   "cell_type": "markdown",
   "metadata": {},
   "source": [
    "The NPOV edits are the collection of edits extracted from the NPOV\n",
    "corpus, which consists of 7464 Wikipedia articles in the \"NPOV\n",
    "disputes\" category together with their history of revisions. The edits\n",
    "include changes involving strings of up to five words that occurred\n",
    "between a pair of consecutive revisions.\n",
    "\n",
    "The edits are released as tab-separated-value (TSV) files. Each line\n",
    "contains an edit with the following information split across 10\n",
    "tab-delimited columns: \n",
    "\n",
    "1. Title of the Wikipedia article the edit comes from. \n",
    "2. Revision number.\n",
    "3. True if the revision text contains an NPOV tag (e.g., {{POV}}), and\n",
    "false otherwise.\n",
    "4. True if the edit comment contains the string \"POV\", and false\n",
    "otherwise.\n",
    "5. ID of the editor responsible for that revision.\n",
    "6. Size of the revision. It can take three values: minor, major or\n",
    "unknown (if unspecified).\n",
    "7. String modified by the edit (i.e., before form).\n",
    "8. String resulting from the edit (i.e., after form).\n",
    "9. Original sentence of the before form (i.e., string in column 7).\n",
    "10. Original sentence of the after form (i.e., string in column 8)."
   ]
  },
  {
   "cell_type": "code",
   "execution_count": 1,
   "metadata": {},
   "outputs": [],
   "source": [
    "import pandas as pd"
   ]
  },
  {
   "cell_type": "code",
   "execution_count": 30,
   "metadata": {},
   "outputs": [],
   "source": [
    "df = pd.read_csv('B:/Dataset/npov-edits/npov-edits/5gram-edits-dev.tsv', delimiter='\\t', header=None, engine=\"c\", error_bad_lines=False, warn_bad_lines=False)"
   ]
  },
  {
   "cell_type": "code",
   "execution_count": 31,
   "metadata": {},
   "outputs": [
    {
     "data": {
      "text/html": [
       "<div>\n",
       "<style scoped>\n",
       "    .dataframe tbody tr th:only-of-type {\n",
       "        vertical-align: middle;\n",
       "    }\n",
       "\n",
       "    .dataframe tbody tr th {\n",
       "        vertical-align: top;\n",
       "    }\n",
       "\n",
       "    .dataframe thead th {\n",
       "        text-align: right;\n",
       "    }\n",
       "</style>\n",
       "<table border=\"1\" class=\"dataframe\">\n",
       "  <thead>\n",
       "    <tr style=\"text-align: right;\">\n",
       "      <th></th>\n",
       "      <th>0</th>\n",
       "      <th>1</th>\n",
       "      <th>2</th>\n",
       "      <th>3</th>\n",
       "      <th>4</th>\n",
       "      <th>5</th>\n",
       "      <th>6</th>\n",
       "      <th>7</th>\n",
       "      <th>8</th>\n",
       "      <th>9</th>\n",
       "    </tr>\n",
       "  </thead>\n",
       "  <tbody>\n",
       "    <tr>\n",
       "      <th>0</th>\n",
       "      <td>Light brown apple moth controversy</td>\n",
       "      <td>194566002</td>\n",
       "      <td>False</td>\n",
       "      <td>False</td>\n",
       "      <td>66.81.112.123</td>\n",
       "      <td>UNKNOWN</td>\n",
       "      <td>contain its spread,</td>\n",
       "      <td>eradicate the moth,</td>\n",
       "      <td>Quarantine measures and aerial spraying were i...</td>\n",
       "      <td>Quarantine measures and aerial spraying of cit...</td>\n",
       "    </tr>\n",
       "    <tr>\n",
       "      <th>1</th>\n",
       "      <td>Light brown apple moth controversy</td>\n",
       "      <td>194568060</td>\n",
       "      <td>False</td>\n",
       "      <td>False</td>\n",
       "      <td>66.81.112.123</td>\n",
       "      <td>UNKNOWN</td>\n",
       "      <td>control</td>\n",
       "      <td>eradication</td>\n",
       "      <td>Following the DNA confirmation of LBAM, offici...</td>\n",
       "      <td>Following the DNA confirmation of LBAM, offici...</td>\n",
       "    </tr>\n",
       "    <tr>\n",
       "      <th>2</th>\n",
       "      <td>Light brown apple moth controversy</td>\n",
       "      <td>194568881</td>\n",
       "      <td>False</td>\n",
       "      <td>False</td>\n",
       "      <td>66.81.112.123</td>\n",
       "      <td>UNKNOWN</td>\n",
       "      <td>pheromone</td>\n",
       "      <td>pheromones</td>\n",
       "      <td>In 2007 and 2008, an aerial eradication progra...</td>\n",
       "      <td>In 2007 and 2008, an aerial eradication progra...</td>\n",
       "    </tr>\n",
       "    <tr>\n",
       "      <th>3</th>\n",
       "      <td>Light brown apple moth controversy</td>\n",
       "      <td>195808797</td>\n",
       "      <td>False</td>\n",
       "      <td>False</td>\n",
       "      <td>66.81.112.206</td>\n",
       "      <td>UNKNOWN</td>\n",
       "      <td>purposes to catch.</td>\n",
       "      <td>purposes.</td>\n",
       "      <td>These are the same traps used for population m...</td>\n",
       "      <td>These are the same traps used for population s...</td>\n",
       "    </tr>\n",
       "    <tr>\n",
       "      <th>4</th>\n",
       "      <td>Light brown apple moth controversy</td>\n",
       "      <td>195809017</td>\n",
       "      <td>False</td>\n",
       "      <td>False</td>\n",
       "      <td>66.81.112.206</td>\n",
       "      <td>UNKNOWN</td>\n",
       "      <td>that</td>\n",
       "      <td>than</td>\n",
       "      <td>&lt;ref name=\"titleMoth-eaten plans\"&gt;{{cite web |...</td>\n",
       "      <td>&lt;ref name=\"titleMoth-eaten plans\"&gt;{{cite web |...</td>\n",
       "    </tr>\n",
       "  </tbody>\n",
       "</table>\n",
       "</div>"
      ],
      "text/plain": [
       "                                    0          1      2      3              4  \\\n",
       "0  Light brown apple moth controversy  194566002  False  False  66.81.112.123   \n",
       "1  Light brown apple moth controversy  194568060  False  False  66.81.112.123   \n",
       "2  Light brown apple moth controversy  194568881  False  False  66.81.112.123   \n",
       "3  Light brown apple moth controversy  195808797  False  False  66.81.112.206   \n",
       "4  Light brown apple moth controversy  195809017  False  False  66.81.112.206   \n",
       "\n",
       "         5                    6                    7  \\\n",
       "0  UNKNOWN  contain its spread,  eradicate the moth,   \n",
       "1  UNKNOWN              control          eradication   \n",
       "2  UNKNOWN            pheromone           pheromones   \n",
       "3  UNKNOWN   purposes to catch.            purposes.   \n",
       "4  UNKNOWN                 that                 than   \n",
       "\n",
       "                                                   8  \\\n",
       "0  Quarantine measures and aerial spraying were i...   \n",
       "1  Following the DNA confirmation of LBAM, offici...   \n",
       "2  In 2007 and 2008, an aerial eradication progra...   \n",
       "3  These are the same traps used for population m...   \n",
       "4  <ref name=\"titleMoth-eaten plans\">{{cite web |...   \n",
       "\n",
       "                                                   9  \n",
       "0  Quarantine measures and aerial spraying of cit...  \n",
       "1  Following the DNA confirmation of LBAM, offici...  \n",
       "2  In 2007 and 2008, an aerial eradication progra...  \n",
       "3  These are the same traps used for population s...  \n",
       "4  <ref name=\"titleMoth-eaten plans\">{{cite web |...  "
      ]
     },
     "execution_count": 31,
     "metadata": {},
     "output_type": "execute_result"
    }
   ],
   "source": [
    "df.head()"
   ]
  },
  {
   "cell_type": "code",
   "execution_count": 32,
   "metadata": {},
   "outputs": [
    {
     "data": {
      "text/plain": [
       "(146204, 10)"
      ]
     },
     "execution_count": 32,
     "metadata": {},
     "output_type": "execute_result"
    }
   ],
   "source": [
    "df.shape"
   ]
  },
  {
   "cell_type": "code",
   "execution_count": 33,
   "metadata": {},
   "outputs": [
    {
     "data": {
      "text/plain": [
       "Int64Index([0, 1, 2, 3, 4, 5, 6, 7, 8, 9], dtype='int64')"
      ]
     },
     "execution_count": 33,
     "metadata": {},
     "output_type": "execute_result"
    }
   ],
   "source": [
    "df.columns"
   ]
  },
  {
   "cell_type": "code",
   "execution_count": 34,
   "metadata": {},
   "outputs": [
    {
     "data": {
      "text/plain": [
       "False    107995\n",
       "True      38209\n",
       "Name: 2, dtype: int64"
      ]
     },
     "execution_count": 34,
     "metadata": {},
     "output_type": "execute_result"
    }
   ],
   "source": [
    "# true if revision text contains a NPOV tag and false otherwise\n",
    "df[2].value_counts() "
   ]
  },
  {
   "cell_type": "code",
   "execution_count": 35,
   "metadata": {},
   "outputs": [
    {
     "data": {
      "text/plain": [
       "False    144707\n",
       "True       1497\n",
       "Name: 3, dtype: int64"
      ]
     },
     "execution_count": 35,
     "metadata": {},
     "output_type": "execute_result"
    }
   ],
   "source": [
    "# true if edit comment contains the string \"POV\" and false otherwise\n",
    "df[3].value_counts()"
   ]
  },
  {
   "cell_type": "code",
   "execution_count": 37,
   "metadata": {},
   "outputs": [
    {
     "data": {
      "text/plain": [
       "UNKNOWN    104406\n",
       "MINOR       41798\n",
       "Name: 5, dtype: int64"
      ]
     },
     "execution_count": 37,
     "metadata": {},
     "output_type": "execute_result"
    }
   ],
   "source": [
    "# rev size\n",
    "df[5].value_counts()"
   ]
  },
  {
   "cell_type": "code",
   "execution_count": 38,
   "metadata": {},
   "outputs": [
    {
     "data": {
      "text/plain": [
       "35324420     394\n",
       "35677539     384\n",
       "200235132    175\n",
       "240082821    133\n",
       "148385466    132\n",
       "219887237    131\n",
       "471407576    126\n",
       "41055397     122\n",
       "318329425    121\n",
       "366002319    113\n",
       "289451479    106\n",
       "289455782    106\n",
       "366504618    105\n",
       "366496192    101\n",
       "32872800      99\n",
       "461544755     92\n",
       "461536868     91\n",
       "148197168     90\n",
       "148196769     90\n",
       "405595488     89\n",
       "465268474     88\n",
       "100409279     87\n",
       "213818890     79\n",
       "142402981     74\n",
       "489803277     73\n",
       "417809954     73\n",
       "142401801     73\n",
       "458255112     72\n",
       "245630504     72\n",
       "99793743      72\n",
       "            ... \n",
       "233671053      1\n",
       "365224308      1\n",
       "416917897      1\n",
       "365724024      1\n",
       "362580345      1\n",
       "438380877      1\n",
       "454765017      1\n",
       "44507404       1\n",
       "8710689        1\n",
       "201853501      1\n",
       "128188988      1\n",
       "172148367      1\n",
       "429367580      1\n",
       "231624994      1\n",
       "320239911      1\n",
       "388529949      1\n",
       "499972643      1\n",
       "429780447      1\n",
       "480962869      1\n",
       "387914207      1\n",
       "394904068      1\n",
       "229511678      1\n",
       "398082548      1\n",
       "263427724      1\n",
       "297185770      1\n",
       "414280005      1\n",
       "191283684      1\n",
       "98000458       1\n",
       "388567370      1\n",
       "211075254      1\n",
       "Name: 1, Length: 71237, dtype: int64"
      ]
     },
     "execution_count": 38,
     "metadata": {},
     "output_type": "execute_result"
    }
   ],
   "source": [
    "df[1].value_counts()"
   ]
  },
  {
   "cell_type": "code",
   "execution_count": null,
   "metadata": {},
   "outputs": [],
   "source": []
  }
 ],
 "metadata": {
  "kernelspec": {
   "display_name": "Python 3",
   "language": "python",
   "name": "python3"
  },
  "language_info": {
   "codemirror_mode": {
    "name": "ipython",
    "version": 3
   },
   "file_extension": ".py",
   "mimetype": "text/x-python",
   "name": "python",
   "nbconvert_exporter": "python",
   "pygments_lexer": "ipython3",
   "version": "3.6.2"
  }
 },
 "nbformat": 4,
 "nbformat_minor": 2
}
