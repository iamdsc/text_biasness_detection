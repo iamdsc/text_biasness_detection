{
  "nbformat": 4,
  "nbformat_minor": 0,
  "metadata": {
    "colab": {
      "name": "text_biasness.ipynb",
      "provenance": [],
      "collapsed_sections": [],
      "include_colab_link": true
    },
    "kernelspec": {
      "name": "python3",
      "display_name": "Python 3"
    },
    "accelerator": "GPU"
  },
  "cells": [
    {
      "cell_type": "markdown",
      "metadata": {
        "id": "view-in-github",
        "colab_type": "text"
      },
      "source": [
        "<a href=\"https://colab.research.google.com/github/iamdsc/text_biasness_detection/blob/master/text_biasness.ipynb\" target=\"_parent\"><img src=\"https://colab.research.google.com/assets/colab-badge.svg\" alt=\"Open In Colab\"/></a>"
      ]
    },
    {
      "cell_type": "code",
      "metadata": {
        "id": "LFjMaqbFKV9Y",
        "colab_type": "code",
        "colab": {}
      },
      "source": [
        "pip install allennlp"
      ],
      "execution_count": 0,
      "outputs": []
    },
    {
      "cell_type": "code",
      "metadata": {
        "id": "hEPzzox7KRfi",
        "colab_type": "code",
        "colab": {}
      },
      "source": [
        "pip install flair"
      ],
      "execution_count": 0,
      "outputs": []
    },
    {
      "cell_type": "code",
      "metadata": {
        "id": "pG19CQ6bj5MR",
        "colab_type": "code",
        "colab": {}
      },
      "source": [
        "import re\n",
        "import numpy as np\n",
        "import pandas as pd\n",
        "import matplotlib.pyplot as plt\n",
        "import tensorflow as tf\n",
        "import tensorflow_hub as hub\n",
        "from keras import backend as K\n",
        "from keras import initializers, regularizers, constraints\n",
        "import keras.layers as layers\n",
        "from keras.models import Model, Sequential, load_model\n",
        "from keras.engine.topology import Layer\n",
        "from flair.data import Sentence\n",
        "from flair.models import SequenceTagger\n",
        "from flair.embeddings import ELMoEmbeddings"
      ],
      "execution_count": 0,
      "outputs": []
    },
    {
      "cell_type": "markdown",
      "metadata": {
        "id": "Y2LpgCqsELDi",
        "colab_type": "text"
      },
      "source": [
        "## Loading the data"
      ]
    },
    {
      "cell_type": "code",
      "metadata": {
        "id": "MCBgXwMZkXOj",
        "colab_type": "code",
        "colab": {}
      },
      "source": [
        "def read_data_from_txt(filename, label):\n",
        "  data = {}\n",
        "  data['sentence'] = []\n",
        "  data['label'] = []\n",
        "  with open(filename, 'r') as f:\n",
        "    for line in f:\n",
        "      data['sentence'].append(line)\n",
        "      data['label'].append(label)\n",
        "\n",
        "  data_df = pd.DataFrame(data)\n",
        "  return data_df"
      ],
      "execution_count": 0,
      "outputs": []
    },
    {
      "cell_type": "code",
      "metadata": {
        "id": "20n2smwNkzwz",
        "colab_type": "code",
        "outputId": "fc53552c-482c-483a-d570-d90e9eea4914",
        "colab": {
          "base_uri": "https://localhost:8080/",
          "height": 206
        }
      },
      "source": [
        "biased_data = read_data_from_txt('biased.txt', 1)\n",
        "biased_data.head()"
      ],
      "execution_count": 7,
      "outputs": [
        {
          "output_type": "execute_result",
          "data": {
            "text/html": [
              "<div>\n",
              "<style scoped>\n",
              "    .dataframe tbody tr th:only-of-type {\n",
              "        vertical-align: middle;\n",
              "    }\n",
              "\n",
              "    .dataframe tbody tr th {\n",
              "        vertical-align: top;\n",
              "    }\n",
              "\n",
              "    .dataframe thead th {\n",
              "        text-align: right;\n",
              "    }\n",
              "</style>\n",
              "<table border=\"1\" class=\"dataframe\">\n",
              "  <thead>\n",
              "    <tr style=\"text-align: right;\">\n",
              "      <th></th>\n",
              "      <th>sentence</th>\n",
              "      <th>label</th>\n",
              "    </tr>\n",
              "  </thead>\n",
              "  <tbody>\n",
              "    <tr>\n",
              "      <th>0</th>\n",
              "      <td>David J. Hanson Ph.D., Professor Emeritus of S...</td>\n",
              "      <td>1</td>\n",
              "    </tr>\n",
              "    <tr>\n",
              "      <th>1</th>\n",
              "      <td>While he continually puts forth these findings...</td>\n",
              "      <td>1</td>\n",
              "    </tr>\n",
              "    <tr>\n",
              "      <th>2</th>\n",
              "      <td>According to the Iranian government, the shoot...</td>\n",
              "      <td>1</td>\n",
              "    </tr>\n",
              "    <tr>\n",
              "      <th>3</th>\n",
              "      <td>Games revolving around the kicking of a ball t...</td>\n",
              "      <td>1</td>\n",
              "    </tr>\n",
              "    <tr>\n",
              "      <th>4</th>\n",
              "      <td>Irgun, shorthand for Irgun Tsvai Leumi, also s...</td>\n",
              "      <td>1</td>\n",
              "    </tr>\n",
              "  </tbody>\n",
              "</table>\n",
              "</div>"
            ],
            "text/plain": [
              "                                            sentence  label\n",
              "0  David J. Hanson Ph.D., Professor Emeritus of S...      1\n",
              "1  While he continually puts forth these findings...      1\n",
              "2  According to the Iranian government, the shoot...      1\n",
              "3  Games revolving around the kicking of a ball t...      1\n",
              "4  Irgun, shorthand for Irgun Tsvai Leumi, also s...      1"
            ]
          },
          "metadata": {
            "tags": []
          },
          "execution_count": 7
        }
      ]
    },
    {
      "cell_type": "code",
      "metadata": {
        "id": "sthHg9IonjIH",
        "colab_type": "code",
        "outputId": "3c5690d4-f055-490d-e8b8-0ecb12c456dd",
        "colab": {
          "base_uri": "https://localhost:8080/",
          "height": 35
        }
      },
      "source": [
        "biased_data.shape"
      ],
      "execution_count": 8,
      "outputs": [
        {
          "output_type": "execute_result",
          "data": {
            "text/plain": [
              "(1843, 2)"
            ]
          },
          "metadata": {
            "tags": []
          },
          "execution_count": 8
        }
      ]
    },
    {
      "cell_type": "code",
      "metadata": {
        "id": "CrupBdLink8O",
        "colab_type": "code",
        "outputId": "ee7136a7-7ede-4e42-b8d6-efe87ca6f8c7",
        "colab": {
          "base_uri": "https://localhost:8080/",
          "height": 206
        }
      },
      "source": [
        "neutral_hard_data = read_data_from_txt('neutral_cw-hard.txt', 0)\n",
        "neutral_hard_data.head()"
      ],
      "execution_count": 9,
      "outputs": [
        {
          "output_type": "execute_result",
          "data": {
            "text/html": [
              "<div>\n",
              "<style scoped>\n",
              "    .dataframe tbody tr th:only-of-type {\n",
              "        vertical-align: middle;\n",
              "    }\n",
              "\n",
              "    .dataframe tbody tr th {\n",
              "        vertical-align: top;\n",
              "    }\n",
              "\n",
              "    .dataframe thead th {\n",
              "        text-align: right;\n",
              "    }\n",
              "</style>\n",
              "<table border=\"1\" class=\"dataframe\">\n",
              "  <thead>\n",
              "    <tr style=\"text-align: right;\">\n",
              "      <th></th>\n",
              "      <th>sentence</th>\n",
              "      <th>label</th>\n",
              "    </tr>\n",
              "  </thead>\n",
              "  <tbody>\n",
              "    <tr>\n",
              "      <th>0</th>\n",
              "      <td>The success of BJJ versus the other martial ar...</td>\n",
              "      <td>0</td>\n",
              "    </tr>\n",
              "    <tr>\n",
              "      <th>1</th>\n",
              "      <td>In all the games, the player is put in command...</td>\n",
              "      <td>0</td>\n",
              "    </tr>\n",
              "    <tr>\n",
              "      <th>2</th>\n",
              "      <td>Potwari ( , also known as Pothohari or Pahari-...</td>\n",
              "      <td>0</td>\n",
              "    </tr>\n",
              "    <tr>\n",
              "      <th>3</th>\n",
              "      <td>Hekmatyar's group, who, in October 1975, under...</td>\n",
              "      <td>0</td>\n",
              "    </tr>\n",
              "    <tr>\n",
              "      <th>4</th>\n",
              "      <td>After the Battle of Nicopolis in 1396 and the ...</td>\n",
              "      <td>0</td>\n",
              "    </tr>\n",
              "  </tbody>\n",
              "</table>\n",
              "</div>"
            ],
            "text/plain": [
              "                                            sentence  label\n",
              "0  The success of BJJ versus the other martial ar...      0\n",
              "1  In all the games, the player is put in command...      0\n",
              "2  Potwari ( , also known as Pothohari or Pahari-...      0\n",
              "3  Hekmatyar's group, who, in October 1975, under...      0\n",
              "4  After the Battle of Nicopolis in 1396 and the ...      0"
            ]
          },
          "metadata": {
            "tags": []
          },
          "execution_count": 9
        }
      ]
    },
    {
      "cell_type": "code",
      "metadata": {
        "id": "4FEf4WKin3Qe",
        "colab_type": "code",
        "outputId": "ac49fa6c-acaf-4293-f031-d8e1b7078dbf",
        "colab": {
          "base_uri": "https://localhost:8080/",
          "height": 35
        }
      },
      "source": [
        "neutral_hard_data.shape"
      ],
      "execution_count": 10,
      "outputs": [
        {
          "output_type": "execute_result",
          "data": {
            "text/plain": [
              "(3109, 2)"
            ]
          },
          "metadata": {
            "tags": []
          },
          "execution_count": 10
        }
      ]
    },
    {
      "cell_type": "code",
      "metadata": {
        "id": "f_MdNvl6oA_Y",
        "colab_type": "code",
        "outputId": "12d4ae14-7c29-4022-e014-5b570ef93f02",
        "colab": {
          "base_uri": "https://localhost:8080/",
          "height": 206
        }
      },
      "source": [
        "neutral_featured_data = read_data_from_txt('neutral_featured.txt', 0)\n",
        "neutral_featured_data.head()"
      ],
      "execution_count": 11,
      "outputs": [
        {
          "output_type": "execute_result",
          "data": {
            "text/html": [
              "<div>\n",
              "<style scoped>\n",
              "    .dataframe tbody tr th:only-of-type {\n",
              "        vertical-align: middle;\n",
              "    }\n",
              "\n",
              "    .dataframe tbody tr th {\n",
              "        vertical-align: top;\n",
              "    }\n",
              "\n",
              "    .dataframe thead th {\n",
              "        text-align: right;\n",
              "    }\n",
              "</style>\n",
              "<table border=\"1\" class=\"dataframe\">\n",
              "  <thead>\n",
              "    <tr style=\"text-align: right;\">\n",
              "      <th></th>\n",
              "      <th>sentence</th>\n",
              "      <th>label</th>\n",
              "    </tr>\n",
              "  </thead>\n",
              "  <tbody>\n",
              "    <tr>\n",
              "      <th>0</th>\n",
              "      <td>Astatine was first produced by bombarding bism...</td>\n",
              "      <td>0</td>\n",
              "    </tr>\n",
              "    <tr>\n",
              "      <th>1</th>\n",
              "      <td>The hatched young, called squabs, are strongly...</td>\n",
              "      <td>0</td>\n",
              "    </tr>\n",
              "    <tr>\n",
              "      <th>2</th>\n",
              "      <td>In spite of early successes against invading I...</td>\n",
              "      <td>0</td>\n",
              "    </tr>\n",
              "    <tr>\n",
              "      <th>3</th>\n",
              "      <td>The Trojans trailed 10–3 going into halftime, ...</td>\n",
              "      <td>0</td>\n",
              "    </tr>\n",
              "    <tr>\n",
              "      <th>4</th>\n",
              "      <td>These bats possess long muzzles and long, exte...</td>\n",
              "      <td>0</td>\n",
              "    </tr>\n",
              "  </tbody>\n",
              "</table>\n",
              "</div>"
            ],
            "text/plain": [
              "                                            sentence  label\n",
              "0  Astatine was first produced by bombarding bism...      0\n",
              "1  The hatched young, called squabs, are strongly...      0\n",
              "2  In spite of early successes against invading I...      0\n",
              "3  The Trojans trailed 10–3 going into halftime, ...      0\n",
              "4  These bats possess long muzzles and long, exte...      0"
            ]
          },
          "metadata": {
            "tags": []
          },
          "execution_count": 11
        }
      ]
    },
    {
      "cell_type": "code",
      "metadata": {
        "id": "jfF-3ixZoawm",
        "colab_type": "code",
        "outputId": "7633c2fd-435c-42ca-99fc-e6d59dbe8797",
        "colab": {
          "base_uri": "https://localhost:8080/",
          "height": 35
        }
      },
      "source": [
        "neutral_featured_data.shape"
      ],
      "execution_count": 12,
      "outputs": [
        {
          "output_type": "execute_result",
          "data": {
            "text/plain": [
              "(5000, 2)"
            ]
          },
          "metadata": {
            "tags": []
          },
          "execution_count": 12
        }
      ]
    },
    {
      "cell_type": "code",
      "metadata": {
        "id": "yzFEix6nofj3",
        "colab_type": "code",
        "outputId": "485eff6f-bdc2-446d-cad6-394ee130008d",
        "colab": {
          "base_uri": "https://localhost:8080/",
          "height": 206
        }
      },
      "source": [
        "neutral_type_balanced_data = read_data_from_txt('neutral_type_balanced.txt', 0)\n",
        "neutral_type_balanced_data.head()"
      ],
      "execution_count": 13,
      "outputs": [
        {
          "output_type": "execute_result",
          "data": {
            "text/html": [
              "<div>\n",
              "<style scoped>\n",
              "    .dataframe tbody tr th:only-of-type {\n",
              "        vertical-align: middle;\n",
              "    }\n",
              "\n",
              "    .dataframe tbody tr th {\n",
              "        vertical-align: top;\n",
              "    }\n",
              "\n",
              "    .dataframe thead th {\n",
              "        text-align: right;\n",
              "    }\n",
              "</style>\n",
              "<table border=\"1\" class=\"dataframe\">\n",
              "  <thead>\n",
              "    <tr style=\"text-align: right;\">\n",
              "      <th></th>\n",
              "      <th>sentence</th>\n",
              "      <th>label</th>\n",
              "    </tr>\n",
              "  </thead>\n",
              "  <tbody>\n",
              "    <tr>\n",
              "      <th>0</th>\n",
              "      <td>Other functions of the haemolymph include woun...</td>\n",
              "      <td>0</td>\n",
              "    </tr>\n",
              "    <tr>\n",
              "      <th>1</th>\n",
              "      <td>It was the fourth best-selling game of 2008, s...</td>\n",
              "      <td>0</td>\n",
              "    </tr>\n",
              "    <tr>\n",
              "      <th>2</th>\n",
              "      <td>Sherwood Springer's \"No Land of Nod\", in the s...</td>\n",
              "      <td>0</td>\n",
              "    </tr>\n",
              "    <tr>\n",
              "      <th>3</th>\n",
              "      <td>The Red Sox, winners of five of the first sixt...</td>\n",
              "      <td>0</td>\n",
              "    </tr>\n",
              "    <tr>\n",
              "      <th>4</th>\n",
              "      <td>The final part addresses the actual rise of al...</td>\n",
              "      <td>0</td>\n",
              "    </tr>\n",
              "  </tbody>\n",
              "</table>\n",
              "</div>"
            ],
            "text/plain": [
              "                                            sentence  label\n",
              "0  Other functions of the haemolymph include woun...      0\n",
              "1  It was the fourth best-selling game of 2008, s...      0\n",
              "2  Sherwood Springer's \"No Land of Nod\", in the s...      0\n",
              "3  The Red Sox, winners of five of the first sixt...      0\n",
              "4  The final part addresses the actual rise of al...      0"
            ]
          },
          "metadata": {
            "tags": []
          },
          "execution_count": 13
        }
      ]
    },
    {
      "cell_type": "code",
      "metadata": {
        "id": "1ZqAYnaoptCR",
        "colab_type": "code",
        "outputId": "d497b0e6-19d8-4370-fd6b-d629b59d1c40",
        "colab": {
          "base_uri": "https://localhost:8080/",
          "height": 35
        }
      },
      "source": [
        "neutral_type_balanced_data.shape"
      ],
      "execution_count": 14,
      "outputs": [
        {
          "output_type": "execute_result",
          "data": {
            "text/plain": [
              "(1994, 2)"
            ]
          },
          "metadata": {
            "tags": []
          },
          "execution_count": 14
        }
      ]
    },
    {
      "cell_type": "markdown",
      "metadata": {
        "id": "fNAcK1WxqABg",
        "colab_type": "text"
      },
      "source": [
        "### Number of Samples:\n",
        "1.   Biased Data: 1843\n",
        "2.   Neutral CW-Hard: 3109\n",
        "3.   Neutral Featured: 5000\n",
        "4.   Neutral Type-balanced: 1994\n",
        "\n"
      ]
    },
    {
      "cell_type": "code",
      "metadata": {
        "id": "OXxQqUcRpywW",
        "colab_type": "code",
        "outputId": "90d07684-a4e0-44b6-fb2c-995dc860dc54",
        "colab": {
          "base_uri": "https://localhost:8080/",
          "height": 35
        }
      },
      "source": [
        "# taking equal number of neutral sentences\n",
        "neutral_type_balanced_data = neutral_type_balanced_data[:len(biased_data)]\n",
        "neutral_type_balanced_data.shape"
      ],
      "execution_count": 15,
      "outputs": [
        {
          "output_type": "execute_result",
          "data": {
            "text/plain": [
              "(1843, 2)"
            ]
          },
          "metadata": {
            "tags": []
          },
          "execution_count": 15
        }
      ]
    },
    {
      "cell_type": "code",
      "metadata": {
        "id": "m9rrh4tfb67F",
        "colab_type": "code",
        "colab": {}
      },
      "source": [
        "# concatenating and shuffling the data\n",
        "text_data = pd.concat([biased_data, neutral_type_balanced_data]).sample(frac=1).reset_index(drop=True)"
      ],
      "execution_count": 0,
      "outputs": []
    },
    {
      "cell_type": "code",
      "metadata": {
        "id": "OX3MnrPtdPGp",
        "colab_type": "code",
        "outputId": "77931b92-c389-4def-9a51-4a7ba5434459",
        "colab": {
          "base_uri": "https://localhost:8080/",
          "height": 35
        }
      },
      "source": [
        "text_data.shape"
      ],
      "execution_count": 17,
      "outputs": [
        {
          "output_type": "execute_result",
          "data": {
            "text/plain": [
              "(3686, 2)"
            ]
          },
          "metadata": {
            "tags": []
          },
          "execution_count": 17
        }
      ]
    },
    {
      "cell_type": "code",
      "metadata": {
        "id": "NibhnbWQdRMV",
        "colab_type": "code",
        "outputId": "19d7105d-f56e-4e86-8d34-194e3b34aa9e",
        "colab": {
          "base_uri": "https://localhost:8080/",
          "height": 206
        }
      },
      "source": [
        "text_data.head()"
      ],
      "execution_count": 18,
      "outputs": [
        {
          "output_type": "execute_result",
          "data": {
            "text/html": [
              "<div>\n",
              "<style scoped>\n",
              "    .dataframe tbody tr th:only-of-type {\n",
              "        vertical-align: middle;\n",
              "    }\n",
              "\n",
              "    .dataframe tbody tr th {\n",
              "        vertical-align: top;\n",
              "    }\n",
              "\n",
              "    .dataframe thead th {\n",
              "        text-align: right;\n",
              "    }\n",
              "</style>\n",
              "<table border=\"1\" class=\"dataframe\">\n",
              "  <thead>\n",
              "    <tr style=\"text-align: right;\">\n",
              "      <th></th>\n",
              "      <th>sentence</th>\n",
              "      <th>label</th>\n",
              "    </tr>\n",
              "  </thead>\n",
              "  <tbody>\n",
              "    <tr>\n",
              "      <th>0</th>\n",
              "      <td>The operations of the 509th Composite Group we...</td>\n",
              "      <td>0</td>\n",
              "    </tr>\n",
              "    <tr>\n",
              "      <th>1</th>\n",
              "      <td>Lee was a scrappy tomboy who was quick to figh...</td>\n",
              "      <td>0</td>\n",
              "    </tr>\n",
              "    <tr>\n",
              "      <th>2</th>\n",
              "      <td>The rape of women, widespread violence against...</td>\n",
              "      <td>0</td>\n",
              "    </tr>\n",
              "    <tr>\n",
              "      <th>3</th>\n",
              "      <td>There is also a reaction in some Baptist churc...</td>\n",
              "      <td>1</td>\n",
              "    </tr>\n",
              "    <tr>\n",
              "      <th>4</th>\n",
              "      <td>While some see the new development as an econo...</td>\n",
              "      <td>0</td>\n",
              "    </tr>\n",
              "  </tbody>\n",
              "</table>\n",
              "</div>"
            ],
            "text/plain": [
              "                                            sentence  label\n",
              "0  The operations of the 509th Composite Group we...      0\n",
              "1  Lee was a scrappy tomboy who was quick to figh...      0\n",
              "2  The rape of women, widespread violence against...      0\n",
              "3  There is also a reaction in some Baptist churc...      1\n",
              "4  While some see the new development as an econo...      0"
            ]
          },
          "metadata": {
            "tags": []
          },
          "execution_count": 18
        }
      ]
    },
    {
      "cell_type": "markdown",
      "metadata": {
        "id": "M-2v3oTEExeJ",
        "colab_type": "text"
      },
      "source": [
        "## Defining helper functions"
      ]
    },
    {
      "cell_type": "code",
      "metadata": {
        "id": "mcXDCv3I3oT1",
        "colab_type": "code",
        "colab": {}
      },
      "source": [
        "# to compute fmeasure as custom metric\n",
        "def f1(y_true, y_pred):\n",
        "    def recall(y_true, y_pred):\n",
        "        \"\"\"Recall metric.\n",
        "\n",
        "        Only computes a batch-wise average of recall.\n",
        "\n",
        "        Computes the recall, a metric for multi-label classification of\n",
        "        how many relevant items are selected.\n",
        "        \"\"\"\n",
        "        true_positives = K.sum(K.round(K.clip(y_true * y_pred, 0, 1)))\n",
        "        possible_positives = K.sum(K.round(K.clip(y_true, 0, 1)))\n",
        "        recall = true_positives / (possible_positives + K.epsilon())\n",
        "        return recall\n",
        "\n",
        "    def precision(y_true, y_pred):\n",
        "        \"\"\"Precision metric.\n",
        "\n",
        "        Only computes a batch-wise average of precision.\n",
        "\n",
        "        Computes the precision, a metric for multi-label classification of\n",
        "        how many selected items are relevant.\n",
        "        \"\"\"\n",
        "        true_positives = K.sum(K.round(K.clip(y_true * y_pred, 0, 1)))\n",
        "        predicted_positives = K.sum(K.round(K.clip(y_pred, 0, 1)))\n",
        "        precision = true_positives / (predicted_positives + K.epsilon())\n",
        "        return precision\n",
        "    precision = precision(y_true, y_pred)\n",
        "    recall = recall(y_true, y_pred)\n",
        "    return 2*((precision*recall)/(precision+recall+K.epsilon()))"
      ],
      "execution_count": 0,
      "outputs": []
    },
    {
      "cell_type": "code",
      "metadata": {
        "id": "4wOwQcfI4H7j",
        "colab_type": "code",
        "colab": {}
      },
      "source": [
        "# helper function to plot the results\n",
        "def plot_result(history):\n",
        "  acc = history.history['acc']\n",
        "  val_acc = history.history['val_acc']\n",
        "  loss = history.history['loss']\n",
        "  val_loss = history.history['val_loss']\n",
        "  f1 = history.history['f1']\n",
        "  val_f1 = history.history['val_f1']\n",
        "  \n",
        "  epochs = range(1, len(acc)+1)\n",
        "\n",
        "  plt.plot(epochs, acc, label='Training acc')\n",
        "  plt.plot(epochs, val_acc, label='Validation acc')\n",
        "  plt.title('Training and validation accuracy')\n",
        "  plt.xlabel('epochs')\n",
        "  plt.ylabel('acc')\n",
        "  plt.legend()\n",
        "\n",
        "  plt.figure()\n",
        "\n",
        "  plt.plot(epochs, loss, label='Training loss')\n",
        "  plt.plot(epochs, val_loss, label='Validation loss')\n",
        "  plt.title('Training and validation loss')\n",
        "  plt.xlabel('epochs')\n",
        "  plt.ylabel('loss')\n",
        "  plt.legend()\n",
        "\n",
        "  plt.figure()\n",
        "\n",
        "  plt.plot(epochs, f1, label='Training fmeasure')\n",
        "  plt.plot(epochs, val_f1, label='Validation fmeasure')\n",
        "  plt.title('Training and validation fmeasure')\n",
        "  plt.xlabel('epochs')\n",
        "  plt.ylabel('f1')\n",
        "  plt.legend()\n",
        "  \n",
        "  plt.show()"
      ],
      "execution_count": 0,
      "outputs": []
    },
    {
      "cell_type": "code",
      "metadata": {
        "id": "ZmhXGtB0E4bX",
        "colab_type": "code",
        "colab": {}
      },
      "source": [
        "maxlen = 50"
      ],
      "execution_count": 0,
      "outputs": []
    },
    {
      "cell_type": "code",
      "metadata": {
        "id": "0PcFulj23e7S",
        "colab_type": "code",
        "colab": {}
      },
      "source": [
        "# Create dataset taking max 50 words in each sentence\n",
        "data = text_data['sentence'].tolist()\n",
        "data = [' '.join(t.split()[:maxlen]) for t in data]\n",
        "data = np.array(data, dtype=object)[:, np.newaxis]\n",
        "label = text_data['label'].tolist()\n",
        "flatten_data = data.flatten()"
      ],
      "execution_count": 0,
      "outputs": []
    },
    {
      "cell_type": "markdown",
      "metadata": {
        "id": "_bSCpOXOKat4",
        "colab_type": "text"
      },
      "source": [
        "## Building Elmo Embeddings using flair"
      ]
    },
    {
      "cell_type": "code",
      "metadata": {
        "id": "WIbs13BmDDfS",
        "colab_type": "code",
        "outputId": "75427059-7482-4d98-a6dc-44a19562e77a",
        "colab": {
          "base_uri": "https://localhost:8080/",
          "height": 72
        }
      },
      "source": [
        "# init embedding\n",
        "embedding = ELMoEmbeddings()\n",
        "\n",
        "# Embedding array - [3686, 50, 3072]\n",
        "elmo_embedding = []\n",
        "for sent in flatten_data:\n",
        "  sent_embedding = []\n",
        "  sent = sent.split()[:50]\n",
        "  sent.extend(['PAD']*(50-len(sent)))\n",
        "  sent = ' '.join(sent)  \n",
        "  sentence = Sentence(sent)\n",
        "  embedding.embed(sentence)\n",
        "  for token in sentence:\n",
        "    sent_embedding.append(token.embedding.cpu().numpy())\n",
        "  elmo_embedding.append(np.array(sent_embedding))\n",
        "elmo_embedding = np.array(elmo_embedding)\n",
        "print(elmo_embedding.shape)"
      ],
      "execution_count": 49,
      "outputs": [
        {
          "output_type": "stream",
          "text": [
            "100%|██████████| 336/336 [00:00<00:00, 670131.31B/s]\n",
            "100%|██████████| 374434792/374434792 [00:05<00:00, 67826782.91B/s]\n"
          ],
          "name": "stderr"
        },
        {
          "output_type": "stream",
          "text": [
            "(3686, 50, 3072)\n"
          ],
          "name": "stdout"
        }
      ]
    },
    {
      "cell_type": "code",
      "metadata": {
        "id": "BcZBGTHc_D77",
        "colab_type": "code",
        "colab": {}
      },
      "source": [
        "# build the model 1\n",
        "def build_elmo_dense():\n",
        "  \"\"\" Using Dense layer over elmo-embedding layer \"\"\"\n",
        "  inp = layers.Input(shape=(maxlen, 3072,))\n",
        "  dense = layers.Dense(64, activation='relu')(inp)\n",
        "  x = layers.Dropout(0.5)(dense)\n",
        "  x = layers.Flatten()(x)\n",
        "  pred = layers.Dense(1, activation='sigmoid')(x)\n",
        "  model = Model(inputs=inp, outputs=pred)\n",
        "  model.compile(loss='binary_crossentropy',\n",
        "                optimizer='rmsprop',\n",
        "                metrics=['accuracy', f1])\n",
        "  model.summary()\n",
        "  return model"
      ],
      "execution_count": 0,
      "outputs": []
    },
    {
      "cell_type": "code",
      "metadata": {
        "id": "8iM30L2S_D4O",
        "colab_type": "code",
        "outputId": "f6c6615b-e0d6-49ee-c05a-5f59186df5a4",
        "colab": {
          "base_uri": "https://localhost:8080/",
          "height": 348
        }
      },
      "source": [
        "elmo_dense = build_elmo_dense()"
      ],
      "execution_count": 0,
      "outputs": [
        {
          "output_type": "stream",
          "text": [
            "Model: \"model_11\"\n",
            "_________________________________________________________________\n",
            "Layer (type)                 Output Shape              Param #   \n",
            "=================================================================\n",
            "input_15 (InputLayer)        (None, 50, 3072)          0         \n",
            "_________________________________________________________________\n",
            "dense_26 (Dense)             (None, 50, 64)            196672    \n",
            "_________________________________________________________________\n",
            "dropout_4 (Dropout)          (None, 50, 64)            0         \n",
            "_________________________________________________________________\n",
            "flatten_4 (Flatten)          (None, 3200)              0         \n",
            "_________________________________________________________________\n",
            "dense_27 (Dense)             (None, 1)                 3201      \n",
            "=================================================================\n",
            "Total params: 199,873\n",
            "Trainable params: 199,873\n",
            "Non-trainable params: 0\n",
            "_________________________________________________________________\n"
          ],
          "name": "stdout"
        }
      ]
    },
    {
      "cell_type": "code",
      "metadata": {
        "id": "X5Ja3EpP_D0K",
        "colab_type": "code",
        "outputId": "5c41ed2a-9f78-48d3-ed85-33425adc27b5",
        "colab": {
          "base_uri": "https://localhost:8080/",
          "height": 202
        }
      },
      "source": [
        "# fit the model\n",
        "history = elmo_dense.fit(elmo_embedding, label, validation_split=0.1, epochs=4, batch_size=32)"
      ],
      "execution_count": 0,
      "outputs": [
        {
          "output_type": "stream",
          "text": [
            "Train on 3317 samples, validate on 369 samples\n",
            "Epoch 1/4\n",
            "3317/3317 [==============================] - 4s 1ms/step - loss: 0.6839 - acc: 0.7163 - f1: 0.6971 - val_loss: 0.3944 - val_acc: 0.8347 - val_f1: 0.8516\n",
            "Epoch 2/4\n",
            "3317/3317 [==============================] - 2s 644us/step - loss: 0.3458 - acc: 0.8550 - f1: 0.8482 - val_loss: 0.4097 - val_acc: 0.8130 - val_f1: 0.8059\n",
            "Epoch 3/4\n",
            "3317/3317 [==============================] - 2s 609us/step - loss: 0.2508 - acc: 0.8945 - f1: 0.8896 - val_loss: 0.4247 - val_acc: 0.8211 - val_f1: 0.8381\n",
            "Epoch 4/4\n",
            "3317/3317 [==============================] - 2s 624us/step - loss: 0.1564 - acc: 0.9388 - f1: 0.9363 - val_loss: 0.4182 - val_acc: 0.8401 - val_f1: 0.8467\n"
          ],
          "name": "stdout"
        }
      ]
    },
    {
      "cell_type": "code",
      "metadata": {
        "id": "3kE0iiGw_Du0",
        "colab_type": "code",
        "outputId": "3996a730-945e-4f44-f718-f36ed77ec52c",
        "colab": {
          "base_uri": "https://localhost:8080/",
          "height": 851
        }
      },
      "source": [
        "plot_result(history)"
      ],
      "execution_count": 0,
      "outputs": [
        {
          "output_type": "display_data",
          "data": {
            "image/png": "[encoded data removed]",
            "text/plain": [
              "<Figure size 432x288 with 1 Axes>"
            ]
          },
          "metadata": {
            "tags": []
          }
        },
        {
          "output_type": "display_data",
          "data": {
            "image/png": "[encoded data removed]",
            "text/plain": [
              "<Figure size 432x288 with 1 Axes>"
            ]
          },
          "metadata": {
            "tags": []
          }
        },
        {
          "output_type": "display_data",
          "data": {
            "image/png": "[encoded data removed]",
            "text/plain": [
              "<Figure size 432x288 with 1 Axes>"
            ]
          },
          "metadata": {
            "tags": []
          }
        }
      ]
    },
    {
      "cell_type": "code",
      "metadata": {
        "id": "PsGAs9lT_Dm1",
        "colab_type": "code",
        "colab": {}
      },
      "source": [
        "#build the model 2\n",
        "def build_elmo_lstm():\n",
        "  \"\"\" Using Bidirectional-LSTM over elmo-embedding layer \"\"\"\n",
        "  inp = layers.Input(shape=(maxlen, 3072,))\n",
        "  lstm = layers.LSTM(128, dropout=0.3)(inp)\n",
        "  x = layers.Dense(64, activation='relu')(lstm)\n",
        "  pred = layers.Dense(1, activation='sigmoid')(x)\n",
        "  model = Model(inputs=inp, outputs=pred)\n",
        "  model.compile(loss='binary_crossentropy',\n",
        "                optimizer='rmsprop',\n",
        "                metrics=['accuracy', f1])\n",
        "  model.summary()\n",
        "  return model"
      ],
      "execution_count": 0,
      "outputs": []
    },
    {
      "cell_type": "code",
      "metadata": {
        "id": "QAjMqiJd_DdG",
        "colab_type": "code",
        "outputId": "c2eacb5e-76a6-4683-fd1e-1df70dc4fc26",
        "colab": {
          "base_uri": "https://localhost:8080/",
          "height": 311
        }
      },
      "source": [
        "elmo_lstm = build_elmo_lstm()"
      ],
      "execution_count": 0,
      "outputs": [
        {
          "output_type": "stream",
          "text": [
            "Model: \"model_7\"\n",
            "_________________________________________________________________\n",
            "Layer (type)                 Output Shape              Param #   \n",
            "=================================================================\n",
            "input_10 (InputLayer)        (None, 50, 3072)          0         \n",
            "_________________________________________________________________\n",
            "lstm_5 (LSTM)                (None, 128)               1638912   \n",
            "_________________________________________________________________\n",
            "dense_17 (Dense)             (None, 64)                8256      \n",
            "_________________________________________________________________\n",
            "dense_18 (Dense)             (None, 1)                 65        \n",
            "=================================================================\n",
            "Total params: 1,647,233\n",
            "Trainable params: 1,647,233\n",
            "Non-trainable params: 0\n",
            "_________________________________________________________________\n"
          ],
          "name": "stdout"
        }
      ]
    },
    {
      "cell_type": "code",
      "metadata": {
        "id": "hVMF7U74_DEd",
        "colab_type": "code",
        "outputId": "2a0f4b89-5020-4246-c09a-038c4ceea146",
        "colab": {
          "base_uri": "https://localhost:8080/",
          "height": 182
        }
      },
      "source": [
        "# fit the model\n",
        "history = elmo_lstm.fit(elmo_embedding, label, validation_split=0.1, epochs=4, batch_size=32)"
      ],
      "execution_count": 0,
      "outputs": [
        {
          "output_type": "stream",
          "text": [
            "Train on 3317 samples, validate on 369 samples\n",
            "Epoch 1/4\n",
            "3317/3317 [==============================] - 18s 5ms/step - loss: 0.5683 - acc: 0.7145 - f1: 0.7024 - val_loss: 0.5037 - val_acc: 0.7669 - val_f1: 0.8057\n",
            "Epoch 2/4\n",
            "3317/3317 [==============================] - 16s 5ms/step - loss: 0.4324 - acc: 0.8092 - f1: 0.7988 - val_loss: 0.3875 - val_acc: 0.8320 - val_f1: 0.8215\n",
            "Epoch 3/4\n",
            "3317/3317 [==============================] - 17s 5ms/step - loss: 0.3532 - acc: 0.8550 - f1: 0.8514 - val_loss: 0.3780 - val_acc: 0.8347 - val_f1: 0.8501\n",
            "Epoch 4/4\n",
            "3317/3317 [==============================] - 17s 5ms/step - loss: 0.3067 - acc: 0.8740 - f1: 0.8700 - val_loss: 0.3499 - val_acc: 0.8699 - val_f1: 0.8636\n"
          ],
          "name": "stdout"
        }
      ]
    },
    {
      "cell_type": "code",
      "metadata": {
        "id": "IiNgeQSm_Cze",
        "colab_type": "code",
        "outputId": "ef65fb92-2229-47bb-f5e6-397844881c48",
        "colab": {
          "base_uri": "https://localhost:8080/",
          "height": 851
        }
      },
      "source": [
        "plot_result(history)"
      ],
      "execution_count": 0,
      "outputs": [
        {
          "output_type": "display_data",
          "data": {
            "image/png": "[encoded data removed]",
            "text/plain": [
              "<Figure size 432x288 with 1 Axes>"
            ]
          },
          "metadata": {
            "tags": []
          }
        },
        {
          "output_type": "display_data",
          "data": {
            "image/png": "[encoded data removed]",
            "text/plain": [
              "<Figure size 432x288 with 1 Axes>"
            ]
          },
          "metadata": {
            "tags": []
          }
        },
        {
          "output_type": "display_data",
          "data": {
            "image/png": "[encoded data removed]",
            "text/plain": [
              "<Figure size 432x288 with 1 Axes>"
            ]
          },
          "metadata": {
            "tags": []
          }
        }
      ]
    },
    {
      "cell_type": "markdown",
      "metadata": {
        "id": "E-yIkv_sFV-q",
        "colab_type": "text"
      },
      "source": [
        "## Creating Custom Attention Layer"
      ]
    },
    {
      "cell_type": "code",
      "metadata": {
        "id": "oBhqh_wYFULS",
        "colab_type": "code",
        "colab": {}
      },
      "source": [
        "def dot_product(x, kernel):\n",
        "    \"\"\"\n",
        "    Wrapper for dot product operation, in order to be compatible with both\n",
        "    Theano and Tensorflow\n",
        "    Args:\n",
        "        x (): input\n",
        "        kernel (): weights\n",
        "    Returns:\n",
        "    \"\"\"\n",
        "    if K.backend() == 'tensorflow':\n",
        "        return K.squeeze(K.dot(x, K.expand_dims(kernel)), axis=-1)\n",
        "    else:\n",
        "        return K.dot(x, kernel)\n",
        "    \n",
        "\n",
        "class AttentionWithContext(Layer):\n",
        "    \"\"\"\n",
        "    Attention operation, with a context/query vector, for temporal data.\n",
        "    Supports Masking.\n",
        "    Follows the work of Yang et al. [https://www.cs.cmu.edu/~diyiy/docs/naacl16.pdf]\n",
        "    \"Hierarchical Attention Networks for Document Classification\"\n",
        "    by using a context vector to assist the attention\n",
        "    # Input shape\n",
        "        3D tensor with shape: `(samples, steps, features)`.\n",
        "    # Output shape\n",
        "        2D tensor with shape: `(samples, features)`.\n",
        "    How to use:\n",
        "    Just put it on top of an RNN Layer (GRU/LSTM/SimpleRNN) with return_sequences=True.\n",
        "    The dimensions are inferred based on the output shape of the RNN.\n",
        "    Note: The layer has been tested with Keras 2.0.6\n",
        "    Example:\n",
        "        model.add(LSTM(64, return_sequences=True))\n",
        "        model.add(AttentionWithContext())\n",
        "        # next add a Dense layer (for classification/regression) or whatever...\n",
        "    \"\"\"\n",
        "    def __init__(self,\n",
        "                 W_regularizer=None, u_regularizer=None, b_regularizer=None,\n",
        "                 W_constraint=None, u_constraint=None, b_constraint=None,\n",
        "                 bias=True, **kwargs):\n",
        "\n",
        "        self.supports_masking = True\n",
        "        self.init = initializers.get('glorot_uniform')\n",
        "\n",
        "        self.W_regularizer = regularizers.get(W_regularizer)\n",
        "        self.u_regularizer = regularizers.get(u_regularizer)\n",
        "        self.b_regularizer = regularizers.get(b_regularizer)\n",
        "\n",
        "        self.W_constraint = constraints.get(W_constraint)\n",
        "        self.u_constraint = constraints.get(u_constraint)\n",
        "        self.b_constraint = constraints.get(b_constraint)\n",
        "\n",
        "        self.bias = bias\n",
        "        super(AttentionWithContext, self).__init__(**kwargs)\n",
        "\n",
        "    def build(self, input_shape):\n",
        "        assert len(input_shape) == 3\n",
        "\n",
        "        self.W = self.add_weight((input_shape[-1], input_shape[-1],),\n",
        "                                 initializer=self.init,\n",
        "                                 name='{}_W'.format(self.name),\n",
        "                                 regularizer=self.W_regularizer,\n",
        "                                 constraint=self.W_constraint)\n",
        "        if self.bias:\n",
        "            self.b = self.add_weight((input_shape[-1],),\n",
        "                                     initializer='zero',\n",
        "                                     name='{}_b'.format(self.name),\n",
        "                                     regularizer=self.b_regularizer,\n",
        "                                     constraint=self.b_constraint)\n",
        "\n",
        "        self.u = self.add_weight((input_shape[-1],),\n",
        "                                 initializer=self.init,\n",
        "                                 name='{}_u'.format(self.name),\n",
        "                                 regularizer=self.u_regularizer,\n",
        "                                 constraint=self.u_constraint)\n",
        "\n",
        "        super(AttentionWithContext, self).build(input_shape)\n",
        "\n",
        "    def compute_mask(self, input, input_mask=None):\n",
        "        # do not pass the mask to the next layers\n",
        "        return None\n",
        "\n",
        "    def call(self, x, mask=None):\n",
        "        uit = dot_product(x, self.W)\n",
        "\n",
        "        if self.bias:\n",
        "            uit += self.b\n",
        "\n",
        "        uit = K.tanh(uit)\n",
        "        ait = dot_product(uit, self.u)\n",
        "\n",
        "        a = K.exp(ait)\n",
        "\n",
        "        # apply mask after the exp. will be re-normalized next\n",
        "        if mask is not None:\n",
        "            # Cast the mask to floatX to avoid float64 upcasting in theano\n",
        "            a *= K.cast(mask, K.floatx())\n",
        "\n",
        "        # in some cases especially in the early stages of training the sum may be almost zero\n",
        "        # and this results in NaN's. A workaround is to add a very small positive number ε to the sum.\n",
        "        # a /= K.cast(K.sum(a, axis=1, keepdims=True), K.floatx())\n",
        "        a /= K.cast(K.sum(a, axis=1, keepdims=True) + K.epsilon(), K.floatx())\n",
        "\n",
        "        a = K.expand_dims(a)\n",
        "        weighted_input = x * a\n",
        "        return K.sum(weighted_input, axis=1)\n",
        "\n",
        "    def compute_output_shape(self, input_shape):\n",
        "        return input_shape[0], input_shape[-1]"
      ],
      "execution_count": 0,
      "outputs": []
    },
    {
      "cell_type": "code",
      "metadata": {
        "id": "m5Hi8z0dEvbB",
        "colab_type": "code",
        "colab": {}
      },
      "source": [
        "def build_elmo_lstm_attention():\n",
        "    inp = layers.Input(shape=(maxlen, 3072,))\n",
        "    x = layers.LSTM(64, dropout=0.5, return_sequences=True)(inp)\n",
        "    x = AttentionWithContext()(x)\n",
        "    x = layers.Dense(128, activation='relu')(x)\n",
        "    x = layers.Dropout(0.5)(x)    \n",
        "    x = layers.Dense(64, activation='relu')(x)\n",
        "    x = layers.Dropout(0.5)(x)\n",
        "    pred = layers.Dense(1, activation='sigmoid')(x)\n",
        "    model = Model(inputs=inp, outputs=pred)\n",
        "    model.compile(loss='binary_crossentropy',\n",
        "                optimizer='rmsprop',\n",
        "                metrics=['accuracy', f1])\n",
        "    model.summary()\n",
        "    return model"
      ],
      "execution_count": 0,
      "outputs": []
    },
    {
      "cell_type": "code",
      "metadata": {
        "id": "m1SaY0g8Mn-N",
        "colab_type": "code",
        "outputId": "1e2f490a-8e19-4d14-cd70-03a1f5f3bb1d",
        "colab": {
          "base_uri": "https://localhost:8080/",
          "height": 458
        }
      },
      "source": [
        "elmo_lstm_attention = build_elmo_lstm_attention()"
      ],
      "execution_count": 119,
      "outputs": [
        {
          "output_type": "stream",
          "text": [
            "Model: \"model_22\"\n",
            "_________________________________________________________________\n",
            "Layer (type)                 Output Shape              Param #   \n",
            "=================================================================\n",
            "input_60 (InputLayer)        (None, 50, 3072)          0         \n",
            "_________________________________________________________________\n",
            "lstm_67 (LSTM)               (None, 50, 64)            803072    \n",
            "_________________________________________________________________\n",
            "attention_with_context_67 (A (None, 64)                4224      \n",
            "_________________________________________________________________\n",
            "dense_41 (Dense)             (None, 128)               8320      \n",
            "_________________________________________________________________\n",
            "dropout_21 (Dropout)         (None, 128)               0         \n",
            "_________________________________________________________________\n",
            "dense_42 (Dense)             (None, 64)                8256      \n",
            "_________________________________________________________________\n",
            "dropout_22 (Dropout)         (None, 64)                0         \n",
            "_________________________________________________________________\n",
            "dense_43 (Dense)             (None, 1)                 65        \n",
            "=================================================================\n",
            "Total params: 823,937\n",
            "Trainable params: 823,937\n",
            "Non-trainable params: 0\n",
            "_________________________________________________________________\n"
          ],
          "name": "stdout"
        }
      ]
    },
    {
      "cell_type": "code",
      "metadata": {
        "id": "XcTHKaLzMxIJ",
        "colab_type": "code",
        "outputId": "5f86682f-602f-43e2-a473-9b1286639aa9",
        "colab": {
          "base_uri": "https://localhost:8080/",
          "height": 182
        }
      },
      "source": [
        "# fit the model\n",
        "history = elmo_lstm_attention.fit(elmo_embedding, label, validation_split=0.1, epochs=4, batch_size=32)"
      ],
      "execution_count": 120,
      "outputs": [
        {
          "output_type": "stream",
          "text": [
            "Train on 3317 samples, validate on 369 samples\n",
            "Epoch 1/4\n",
            "3317/3317 [==============================] - 22s 6ms/step - loss: 0.5348 - acc: 0.7353 - f1: 0.7249 - val_loss: 0.4891 - val_acc: 0.7832 - val_f1: 0.8001\n",
            "Epoch 2/4\n",
            "3317/3317 [==============================] - 10s 3ms/step - loss: 0.3974 - acc: 0.8294 - f1: 0.8261 - val_loss: 0.4563 - val_acc: 0.7940 - val_f1: 0.7832\n",
            "Epoch 3/4\n",
            "3317/3317 [==============================] - 10s 3ms/step - loss: 0.3368 - acc: 0.8625 - f1: 0.8573 - val_loss: 0.4482 - val_acc: 0.8238 - val_f1: 0.8269\n",
            "Epoch 4/4\n",
            "3317/3317 [==============================] - 10s 3ms/step - loss: 0.2835 - acc: 0.8897 - f1: 0.8876 - val_loss: 0.5380 - val_acc: 0.8130 - val_f1: 0.8051\n"
          ],
          "name": "stdout"
        }
      ]
    },
    {
      "cell_type": "code",
      "metadata": {
        "id": "NG3zH5YjQpcj",
        "colab_type": "code",
        "outputId": "bbd2d063-ac09-44e9-97c9-65209c8979d2",
        "colab": {
          "base_uri": "https://localhost:8080/",
          "height": 851
        }
      },
      "source": [
        "plot_result(history)"
      ],
      "execution_count": 121,
      "outputs": [
        {
          "output_type": "display_data",
          "data": {
            "image/png": "[encoded data removed]",
            "text/plain": [
              "<Figure size 432x288 with 1 Axes>"
            ]
          },
          "metadata": {
            "tags": []
          }
        },
        {
          "output_type": "display_data",
          "data": {
            "image/png": "[encoded data removed]",
            "text/plain": [
              "<Figure size 432x288 with 1 Axes>"
            ]
          },
          "metadata": {
            "tags": []
          }
        },
        {
          "output_type": "display_data",
          "data": {
            "image/png": "[encoded data removed]",
            "text/plain": [
              "<Figure size 432x288 with 1 Axes>"
            ]
          },
          "metadata": {
            "tags": []
          }
        }
      ]
    },
    {
      "cell_type": "markdown",
      "metadata": {
        "id": "mcZ8L6riFbxz",
        "colab_type": "text"
      },
      "source": [
        "## Using POS tags of words in sentences"
      ]
    },
    {
      "cell_type": "code",
      "metadata": {
        "id": "_HMr7TKKEIDF",
        "colab_type": "code",
        "colab": {}
      },
      "source": [
        "pos_tagger = SequenceTagger.load('pos-fast')\n",
        "pos_tags = []\n",
        "for sent in flatten_data:\n",
        "  sentence = Sentence(sent)\n",
        "  pos_tagger.predict(sentence)\n",
        "  tagged_sentence = sentence.to_tagged_string()\n",
        "  ## Replace that word from sentence \n",
        "  for j in sent.split():\n",
        "    tagged_sentence = str(tagged_sentence).replace(j,\"\",1)    \n",
        "  ## Removing < > symbols ##\n",
        "  for j in  ['<','>']:\n",
        "    tagged_sentence = str(tagged_sentence).replace(j,\"\")\n",
        "    ## Removing redundant spaces\n",
        "    tagged_sentence = re.sub(' +', ' ', str(tagged_sentence))\n",
        "    tagged_sentence = str(tagged_sentence).lstrip()\n",
        "  pos_tags.append(tagged_sentence)\n",
        "# print(pos_tags[:5])"
      ],
      "execution_count": 0,
      "outputs": []
    },
    {
      "cell_type": "code",
      "metadata": {
        "id": "JxQIR61bWpMS",
        "colab_type": "code",
        "colab": {
          "base_uri": "https://localhost:8080/",
          "height": 313
        },
        "outputId": "1c6d0f84-2db0-4450-eef3-d560146242ab"
      },
      "source": [
        "print(flatten_data[0])\n",
        "print(pos_tags[0])\n",
        "print(elmo_embedding[0])"
      ],
      "execution_count": 100,
      "outputs": [
        {
          "output_type": "stream",
          "text": [
            "The operations of the 509th Composite Group were treated to a lesser extent in the docudrama \"The Beginning or the End\" (1947), with Barry Nelson as Tibbets.\n",
            "DET NOUN ADP DET ADJ PROPN PROPN VERB VERB ADP DET ADJ NOUN ADP DET NOUN PRON NOUN CCONJ DET PROPN NUM ADP PROPN PROPN ADP PROPN\n",
            "[[-0.3288476   0.20216218 -0.5940115  ... -1.3839288   0.04014444\n",
            "   0.36067542]\n",
            " [-0.09706307 -0.6824828   0.18596874 ... -1.0016967   1.0592575\n",
            "   0.19844666]\n",
            " [ 0.24783461 -0.24896076  0.02219516 ... -1.8530749  -0.6374299\n",
            "  -0.5472182 ]\n",
            " ...\n",
            " [-0.5276699   1.0594847  -0.17727263 ...  0.24792817 -0.45711735\n",
            "  -0.18467829]\n",
            " [-0.5276699   1.0594847  -0.17727263 ...  0.10488677 -0.3012372\n",
            "  -0.42728814]\n",
            " [-0.5276699   1.0594847  -0.17727263 ... -0.06258881 -0.1776095\n",
            "  -0.437854  ]]\n"
          ],
          "name": "stdout"
        }
      ]
    },
    {
      "cell_type": "code",
      "metadata": {
        "id": "exyAhVLyDupt",
        "colab_type": "code",
        "colab": {
          "base_uri": "https://localhost:8080/",
          "height": 35
        },
        "outputId": "86d3ff5c-6ece-44f7-939d-d617fac45cb7"
      },
      "source": [
        "from keras.preprocessing.text import Tokenizer\n",
        "from keras.preprocessing.sequence import pad_sequences\n",
        "\n",
        "maxlen = 50\n",
        "max_words = 100\n",
        "\n",
        "tokenizer = Tokenizer(num_words=max_words)\n",
        "tokenizer.fit_on_texts(pos_tags)\n",
        "\n",
        "sequences = tokenizer.texts_to_sequences(pos_tags)\n",
        "word_index = tokenizer.word_index\n",
        "\n",
        "print('Found %s unique tokens'%len(word_index))\n",
        "\n",
        "# padding the sequences\n",
        "pos_data = pad_sequences(sequences, maxlen=maxlen)"
      ],
      "execution_count": 37,
      "outputs": [
        {
          "output_type": "stream",
          "text": [
            "Found 63 unique tokens\n"
          ],
          "name": "stdout"
        }
      ]
    },
    {
      "cell_type": "code",
      "metadata": {
        "id": "AAop2CH-G65Z",
        "colab_type": "code",
        "colab": {
          "base_uri": "https://localhost:8080/",
          "height": 311
        },
        "outputId": "4cb9a5a1-2813-444c-86d9-fc57ccb2d64c"
      },
      "source": [
        "print(pos_data.shape)\n",
        "print(pos_data[:5])"
      ],
      "execution_count": 39,
      "outputs": [
        {
          "output_type": "stream",
          "text": [
            "(3686, 50)\n",
            "[[ 0  0  0  0  0  0  0  0  0  0  0  0  0  0  0  0  0  0  0  0  0  0  0  5\n",
            "   1  2  5  6  4  4  3  3  2  5  6  1  2  5  1  8  1  9  5  4 10  2  4  4\n",
            "   2  4]\n",
            " [ 0  0  0  0  0  0  0  0  0  0  0  0  0  0  0  0  0  0  0  0  0  0  0  0\n",
            "   0  0  0  0  0  0  4  3  5  6  1  8  3  6 11  3  9  4  3  3  2  8  6  1\n",
            "   9  1]\n",
            " [ 0  0  0  0  0  0  0  0  0  0  0  0  0  0  0  0  0  0  0  0  0  5  1  2\n",
            "   1  6  1  2  1  1  9  1  2  1  8  3  3  2  4  1  2  6  1  3  3  5  6  1\n",
            "   2  8]\n",
            " [ 0  0  0  0  0  0  0  0  0  0  0  0  0  0  0  0  0  0  0  0  8  3  7  5\n",
            "   1  2  5  6  1  2  5  6  9  6  7  2  5  6  1  1  6  2  4  8  3  3  2  6\n",
            "   9  6]\n",
            " [ 0  0  0  0  0  0  0  0  0  0  0  0  0  0  0  0  0  0  0  0  0  0  0  2\n",
            "   5  3  5  6  1  2  5  6  1  1  3  3  4  9  5  4  4  4  2  3  2  4  1  2\n",
            "   6  1]]\n"
          ],
          "name": "stdout"
        }
      ]
    },
    {
      "cell_type": "code",
      "metadata": {
        "id": "UB-6XW5wR2db",
        "colab_type": "code",
        "colab": {}
      },
      "source": [
        "def build_elmo_lstm_attn_pos_attn():\n",
        "    inp1 = layers.Input(shape=(maxlen, 3072,)) # To input elmo embeddings\n",
        "    inp2 = layers.Input(shape=(maxlen,)) # To input POS tag sequences\n",
        "    \n",
        "    x = layers.LSTM(64, dropout=0.3, return_sequences=True)(inp1)\n",
        "    x = AttentionWithContext()(x)\n",
        "    \n",
        "    y = layers.Embedding(max_words, 1024, input_length=maxlen)(inp2)\n",
        "    y = layers.LSTM(64, dropout=0.3, return_sequences=True)(y)\n",
        "    \n",
        "    y = AttentionWithContext()(y)\n",
        "    \n",
        "    z = layers.Concatenate(axis=-1)([x, y])\n",
        "    \n",
        "    z = layers.Dense(128, activation='relu')(z)\n",
        "    z = layers.Dropout(0.5)(z)\n",
        "    z = layers.Dense(64, activation='relu')(z)\n",
        "    z = layers.Dropout(0.3)(z)\n",
        "    \n",
        "    pred = layers.Dense(1, activation='sigmoid')(z)\n",
        "    model = Model(inputs=[inp1,inp2], outputs=pred)\n",
        "    model.compile(loss='binary_crossentropy',\n",
        "                optimizer='rmsprop',\n",
        "                metrics=['accuracy', f1])\n",
        "    model.summary()\n",
        "    return model"
      ],
      "execution_count": 0,
      "outputs": []
    },
    {
      "cell_type": "code",
      "metadata": {
        "id": "ZJob9fa1I0x2",
        "colab_type": "code",
        "colab": {
          "base_uri": "https://localhost:8080/",
          "height": 660
        },
        "outputId": "a2666813-fc45-4cb4-f6b6-9f80f93997c2"
      },
      "source": [
        "elmo_lstm_attn_pos_attn = build_elmo_lstm_attn_pos_attn()"
      ],
      "execution_count": 111,
      "outputs": [
        {
          "output_type": "stream",
          "text": [
            "Model: \"model_20\"\n",
            "__________________________________________________________________________________________________\n",
            "Layer (type)                    Output Shape         Param #     Connected to                     \n",
            "==================================================================================================\n",
            "input_58 (InputLayer)           (None, 50)           0                                            \n",
            "__________________________________________________________________________________________________\n",
            "input_57 (InputLayer)           (None, 50, 3072)     0                                            \n",
            "__________________________________________________________________________________________________\n",
            "embedding_29 (Embedding)        (None, 50, 1024)     102400      input_58[0][0]                   \n",
            "__________________________________________________________________________________________________\n",
            "lstm_64 (LSTM)                  (None, 50, 64)       803072      input_57[0][0]                   \n",
            "__________________________________________________________________________________________________\n",
            "lstm_65 (LSTM)                  (None, 50, 64)       278784      embedding_29[0][0]               \n",
            "__________________________________________________________________________________________________\n",
            "attention_with_context_64 (Atte (None, 64)           4224        lstm_64[0][0]                    \n",
            "__________________________________________________________________________________________________\n",
            "attention_with_context_65 (Atte (None, 64)           4224        lstm_65[0][0]                    \n",
            "__________________________________________________________________________________________________\n",
            "concatenate_29 (Concatenate)    (None, 128)          0           attention_with_context_64[0][0]  \n",
            "                                                                 attention_with_context_65[0][0]  \n",
            "__________________________________________________________________________________________________\n",
            "dense_36 (Dense)                (None, 128)          16512       concatenate_29[0][0]             \n",
            "__________________________________________________________________________________________________\n",
            "dropout_18 (Dropout)            (None, 128)          0           dense_36[0][0]                   \n",
            "__________________________________________________________________________________________________\n",
            "dense_37 (Dense)                (None, 64)           8256        dropout_18[0][0]                 \n",
            "__________________________________________________________________________________________________\n",
            "dropout_19 (Dropout)            (None, 64)           0           dense_37[0][0]                   \n",
            "__________________________________________________________________________________________________\n",
            "dense_38 (Dense)                (None, 1)            65          dropout_19[0][0]                 \n",
            "==================================================================================================\n",
            "Total params: 1,217,537\n",
            "Trainable params: 1,217,537\n",
            "Non-trainable params: 0\n",
            "__________________________________________________________________________________________________\n"
          ],
          "name": "stdout"
        }
      ]
    },
    {
      "cell_type": "code",
      "metadata": {
        "id": "0arrN75NI6lY",
        "colab_type": "code",
        "colab": {
          "base_uri": "https://localhost:8080/",
          "height": 182
        },
        "outputId": "41403eea-cc6e-4146-f933-d1726b6208df"
      },
      "source": [
        "# fit the model\n",
        "history = elmo_lstm_attn_pos_attn.fit([elmo_embedding, pos_data], label, validation_split=0.1, epochs=4, batch_size=32)"
      ],
      "execution_count": 112,
      "outputs": [
        {
          "output_type": "stream",
          "text": [
            "Train on 3317 samples, validate on 369 samples\n",
            "Epoch 1/4\n",
            "3317/3317 [==============================] - 30s 9ms/step - loss: 0.4878 - acc: 0.7645 - f1: 0.7482 - val_loss: 0.4582 - val_acc: 0.7995 - val_f1: 0.8032\n",
            "Epoch 2/4\n",
            "3317/3317 [==============================] - 19s 6ms/step - loss: 0.3611 - acc: 0.8496 - f1: 0.8468 - val_loss: 0.4352 - val_acc: 0.8157 - val_f1: 0.8018\n",
            "Epoch 3/4\n",
            "3317/3317 [==============================] - 19s 6ms/step - loss: 0.2707 - acc: 0.8921 - f1: 0.8846 - val_loss: 0.4757 - val_acc: 0.8211 - val_f1: 0.8361\n",
            "Epoch 4/4\n",
            "3317/3317 [==============================] - 19s 6ms/step - loss: 0.1793 - acc: 0.9292 - f1: 0.9271 - val_loss: 0.6327 - val_acc: 0.8184 - val_f1: 0.8211\n"
          ],
          "name": "stdout"
        }
      ]
    },
    {
      "cell_type": "code",
      "metadata": {
        "id": "vpunzc3VKNsx",
        "colab_type": "code",
        "colab": {}
      },
      "source": [
        "def build_elmo_lstm_pos_attn():\n",
        "    inp1 = layers.Input(shape=(maxlen, 3072,)) # To input elmo embeddings\n",
        "    inp2 = layers.Input(shape=(maxlen,)) # To input POS tag sequences\n",
        "    \n",
        "    x = layers.LSTM(64, dropout=0.5, return_sequences=True)(inp1)\n",
        "    \n",
        "    y = layers.Embedding(max_words, 100, input_length=maxlen)(inp2)\n",
        "    y = layers.LSTM(64, dropout=0.5, return_sequences=True)(y)\n",
        "    \n",
        "    z = layers.Concatenate(axis=-1)([x, y]) \n",
        "    z = AttentionWithContext()(z)\n",
        "    \n",
        "    z = layers.Dense(128, activation='relu')(z)\n",
        "    z = layers.Dropout(0.5)(z)\n",
        "    z = layers.Dense(64, activation='relu')(z)\n",
        "    z = layers.Dropout(0.3)(z)\n",
        "\n",
        "    pred = layers.Dense(1, activation='sigmoid')(z)\n",
        "    model = Model(inputs=[inp1,inp2], outputs=pred)\n",
        "    model.compile(loss='binary_crossentropy',\n",
        "                optimizer='rmsprop',\n",
        "                metrics=['accuracy', f1])\n",
        "    model.summary()\n",
        "    return model"
      ],
      "execution_count": 0,
      "outputs": []
    },
    {
      "cell_type": "code",
      "metadata": {
        "id": "SRut26GTTA76",
        "colab_type": "code",
        "colab": {
          "base_uri": "https://localhost:8080/",
          "height": 623
        },
        "outputId": "8f2d54d5-5533-41b9-a6db-bd6b6db13b60"
      },
      "source": [
        "elmo_lstm_pos_attn = build_elmo_lstm_pos_attn()"
      ],
      "execution_count": 123,
      "outputs": [
        {
          "output_type": "stream",
          "text": [
            "Model: \"model_23\"\n",
            "__________________________________________________________________________________________________\n",
            "Layer (type)                    Output Shape         Param #     Connected to                     \n",
            "==================================================================================================\n",
            "input_62 (InputLayer)           (None, 50)           0                                            \n",
            "__________________________________________________________________________________________________\n",
            "input_61 (InputLayer)           (None, 50, 3072)     0                                            \n",
            "__________________________________________________________________________________________________\n",
            "embedding_30 (Embedding)        (None, 50, 100)      10000       input_62[0][0]                   \n",
            "__________________________________________________________________________________________________\n",
            "lstm_68 (LSTM)                  (None, 50, 64)       803072      input_61[0][0]                   \n",
            "__________________________________________________________________________________________________\n",
            "lstm_69 (LSTM)                  (None, 50, 64)       42240       embedding_30[0][0]               \n",
            "__________________________________________________________________________________________________\n",
            "concatenate_30 (Concatenate)    (None, 50, 128)      0           lstm_68[0][0]                    \n",
            "                                                                 lstm_69[0][0]                    \n",
            "__________________________________________________________________________________________________\n",
            "attention_with_context_68 (Atte (None, 128)          16640       concatenate_30[0][0]             \n",
            "__________________________________________________________________________________________________\n",
            "dense_44 (Dense)                (None, 128)          16512       attention_with_context_68[0][0]  \n",
            "__________________________________________________________________________________________________\n",
            "dropout_23 (Dropout)            (None, 128)          0           dense_44[0][0]                   \n",
            "__________________________________________________________________________________________________\n",
            "dense_45 (Dense)                (None, 64)           8256        dropout_23[0][0]                 \n",
            "__________________________________________________________________________________________________\n",
            "dropout_24 (Dropout)            (None, 64)           0           dense_45[0][0]                   \n",
            "__________________________________________________________________________________________________\n",
            "dense_46 (Dense)                (None, 1)            65          dropout_24[0][0]                 \n",
            "==================================================================================================\n",
            "Total params: 896,785\n",
            "Trainable params: 896,785\n",
            "Non-trainable params: 0\n",
            "__________________________________________________________________________________________________\n"
          ],
          "name": "stdout"
        }
      ]
    },
    {
      "cell_type": "code",
      "metadata": {
        "id": "mQAw03LvTF1O",
        "colab_type": "code",
        "colab": {
          "base_uri": "https://localhost:8080/",
          "height": 182
        },
        "outputId": "59f96e47-7016-4ff6-faef-8044341e3675"
      },
      "source": [
        "# fit the model\n",
        "history = elmo_lstm_pos_attn.fit([elmo_embedding, pos_data], label, validation_split=0.1, epochs=4, batch_size=32)"
      ],
      "execution_count": 124,
      "outputs": [
        {
          "output_type": "stream",
          "text": [
            "Train on 3317 samples, validate on 369 samples\n",
            "Epoch 1/4\n",
            "3317/3317 [==============================] - 31s 9ms/step - loss: 0.5039 - acc: 0.7585 - f1: 0.7514 - val_loss: 0.4224 - val_acc: 0.8130 - val_f1: 0.8273\n",
            "Epoch 2/4\n",
            "3317/3317 [==============================] - 18s 6ms/step - loss: 0.3824 - acc: 0.8321 - f1: 0.8285 - val_loss: 0.4370 - val_acc: 0.8049 - val_f1: 0.8204\n",
            "Epoch 3/4\n",
            "3317/3317 [==============================] - 18s 6ms/step - loss: 0.3291 - acc: 0.8652 - f1: 0.8616 - val_loss: 0.4790 - val_acc: 0.8184 - val_f1: 0.8289\n",
            "Epoch 4/4\n",
            "3317/3317 [==============================] - 18s 6ms/step - loss: 0.2687 - acc: 0.8888 - f1: 0.8849 - val_loss: 0.4666 - val_acc: 0.8238 - val_f1: 0.8333\n"
          ],
          "name": "stdout"
        }
      ]
    },
    {
      "cell_type": "code",
      "metadata": {
        "id": "XyRP5BphTcQq",
        "colab_type": "code",
        "colab": {
          "base_uri": "https://localhost:8080/",
          "height": 851
        },
        "outputId": "4495cbd2-86b7-47f8-af57-d4e1e202d377"
      },
      "source": [
        "plot_result(history)"
      ],
      "execution_count": 125,
      "outputs": [
        {
          "output_type": "display_data",
          "data": {
            "image/png": "[encoded data removed]",
            "text/plain": [
              "<Figure size 432x288 with 1 Axes>"
            ]
          },
          "metadata": {
            "tags": []
          }
        },
        {
          "output_type": "display_data",
          "data": {
            "image/png": "[encoded data removed]",
            "text/plain": [
              "<Figure size 432x288 with 1 Axes>"
            ]
          },
          "metadata": {
            "tags": []
          }
        },
        {
          "output_type": "display_data",
          "data": {
            "image/png": "[encoded data removed]",
            "text/plain": [
              "<Figure size 432x288 with 1 Axes>"
            ]
          },
          "metadata": {
            "tags": []
          }
        }
      ]
    },
    {
      "cell_type": "code",
      "metadata": {
        "id": "iKIDSi_uVhAk",
        "colab_type": "code",
        "colab": {}
      },
      "source": [
        "def build_elmo_pos_lstm_attn():\n",
        "    inp1 = layers.Input(shape=(maxlen, 3072,)) # To input elmo embeddings\n",
        "    inp2 = layers.Input(shape=(maxlen,)) # To input POS tag sequences\n",
        "    \n",
        "    x = layers.Embedding(max_words, 1024, input_length=maxlen)(inp2)\n",
        "    \n",
        "    z = layers.Concatenate(axis=-1)([inp1, x])\n",
        "    z = layers.LSTM(64, dropout=0.5, return_sequences=True)(z)\n",
        "    z = AttentionWithContext()(z)\n",
        "    \n",
        "    z = layers.Dense(128, activation='relu')(z)\n",
        "    z = layers.Dropout(0.5)(z)\n",
        "    z = layers.Dense(64, activation='relu')(z)\n",
        "    z = layers.Dropout(0.3)(z)\n",
        "    \n",
        "    pred = layers.Dense(1, activation='sigmoid')(z)\n",
        "    model = Model(inputs=[inp1,inp2], outputs=pred)\n",
        "    model.compile(loss='binary_crossentropy',\n",
        "                optimizer='rmsprop',\n",
        "                metrics=['accuracy', f1])\n",
        "    model.summary()\n",
        "    return model"
      ],
      "execution_count": 0,
      "outputs": []
    },
    {
      "cell_type": "code",
      "metadata": {
        "id": "xQ1Jk1u6XuDn",
        "colab_type": "code",
        "colab": {
          "base_uri": "https://localhost:8080/",
          "height": 586
        },
        "outputId": "e47d7d68-ae60-40e3-c800-3e560af34122"
      },
      "source": [
        "elmo_pos_lstm_attn = build_elmo_pos_lstm_attn()"
      ],
      "execution_count": 133,
      "outputs": [
        {
          "output_type": "stream",
          "text": [
            "Model: \"model_26\"\n",
            "__________________________________________________________________________________________________\n",
            "Layer (type)                    Output Shape         Param #     Connected to                     \n",
            "==================================================================================================\n",
            "input_68 (InputLayer)           (None, 50)           0                                            \n",
            "__________________________________________________________________________________________________\n",
            "input_67 (InputLayer)           (None, 50, 3072)     0                                            \n",
            "__________________________________________________________________________________________________\n",
            "embedding_33 (Embedding)        (None, 50, 1024)     102400      input_68[0][0]                   \n",
            "__________________________________________________________________________________________________\n",
            "concatenate_33 (Concatenate)    (None, 50, 4096)     0           input_67[0][0]                   \n",
            "                                                                 embedding_33[0][0]               \n",
            "__________________________________________________________________________________________________\n",
            "lstm_72 (LSTM)                  (None, 50, 64)       1065216     concatenate_33[0][0]             \n",
            "__________________________________________________________________________________________________\n",
            "attention_with_context_71 (Atte (None, 64)           4224        lstm_72[0][0]                    \n",
            "__________________________________________________________________________________________________\n",
            "dense_53 (Dense)                (None, 128)          8320        attention_with_context_71[0][0]  \n",
            "__________________________________________________________________________________________________\n",
            "dropout_29 (Dropout)            (None, 128)          0           dense_53[0][0]                   \n",
            "__________________________________________________________________________________________________\n",
            "dense_54 (Dense)                (None, 64)           8256        dropout_29[0][0]                 \n",
            "__________________________________________________________________________________________________\n",
            "dropout_30 (Dropout)            (None, 64)           0           dense_54[0][0]                   \n",
            "__________________________________________________________________________________________________\n",
            "dense_55 (Dense)                (None, 1)            65          dropout_30[0][0]                 \n",
            "==================================================================================================\n",
            "Total params: 1,188,481\n",
            "Trainable params: 1,188,481\n",
            "Non-trainable params: 0\n",
            "__________________________________________________________________________________________________\n"
          ],
          "name": "stdout"
        }
      ]
    },
    {
      "cell_type": "code",
      "metadata": {
        "id": "DAGXg7ziXy2N",
        "colab_type": "code",
        "colab": {
          "base_uri": "https://localhost:8080/",
          "height": 182
        },
        "outputId": "0360abf7-215d-43ea-9c4b-e6aed49e2968"
      },
      "source": [
        "# fit the model\n",
        "history = elmo_pos_lstm_attn.fit([elmo_embedding, pos_data], label, validation_split=0.1, epochs=4, batch_size=32)"
      ],
      "execution_count": 134,
      "outputs": [
        {
          "output_type": "stream",
          "text": [
            "Train on 3317 samples, validate on 369 samples\n",
            "Epoch 1/4\n",
            "3317/3317 [==============================] - 25s 7ms/step - loss: 0.4962 - acc: 0.7633 - f1: 0.7563 - val_loss: 0.4559 - val_acc: 0.7913 - val_f1: 0.7993\n",
            "Epoch 2/4\n",
            "3317/3317 [==============================] - 12s 3ms/step - loss: 0.3738 - acc: 0.8372 - f1: 0.8352 - val_loss: 0.4416 - val_acc: 0.7967 - val_f1: 0.7950\n",
            "Epoch 3/4\n",
            "3317/3317 [==============================] - 12s 3ms/step - loss: 0.2835 - acc: 0.8927 - f1: 0.8877 - val_loss: 0.4799 - val_acc: 0.7995 - val_f1: 0.7821\n",
            "Epoch 4/4\n",
            "3317/3317 [==============================] - 11s 3ms/step - loss: 0.1865 - acc: 0.9279 - f1: 0.9261 - val_loss: 0.6115 - val_acc: 0.8049 - val_f1: 0.8150\n"
          ],
          "name": "stdout"
        }
      ]
    },
    {
      "cell_type": "code",
      "metadata": {
        "id": "5U3mzIfgYFC4",
        "colab_type": "code",
        "colab": {}
      },
      "source": [
        ""
      ],
      "execution_count": 0,
      "outputs": []
    }
  ]
}