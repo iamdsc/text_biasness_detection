{
  "nbformat": 4,
  "nbformat_minor": 0,
  "metadata": {
    "colab": {
      "name": "text_biasness.ipynb",
      "provenance": [],
      "collapsed_sections": [],
      "include_colab_link": true
    },
    "kernelspec": {
      "name": "python3",
      "display_name": "Python 3"
    },
    "accelerator": "GPU"
  },
  "cells": [
    {
      "cell_type": "markdown",
      "metadata": {
        "id": "view-in-github",
        "colab_type": "text"
      },
      "source": [
        "<a href=\"https://colab.research.google.com/github/iamdsc/text_biasness_detection/blob/master/text_biasness.ipynb\" target=\"_parent\"><img src=\"https://colab.research.google.com/assets/colab-badge.svg\" alt=\"Open In Colab\"/></a>"
      ]
    },
    {
      "cell_type": "code",
      "metadata": {
        "id": "LFjMaqbFKV9Y",
        "colab_type": "code",
        "colab": {}
      },
      "source": [
        "pip install allennlp"
      ],
      "execution_count": 0,
      "outputs": []
    },
    {
      "cell_type": "code",
      "metadata": {
        "id": "hEPzzox7KRfi",
        "colab_type": "code",
        "colab": {}
      },
      "source": [
        "pip install flair"
      ],
      "execution_count": 0,
      "outputs": []
    },
    {
      "cell_type": "code",
      "metadata": {
        "id": "pG19CQ6bj5MR",
        "colab_type": "code",
        "outputId": "37a8f510-d3ec-480d-a8e0-a126227a2c9a",
        "colab": {
          "base_uri": "https://localhost:8080/",
          "height": 83
        }
      },
      "source": [
        "import numpy as np\n",
        "import pandas as pd\n",
        "import matplotlib.pyplot as plt\n",
        "import tensorflow as tf\n",
        "import tensorflow_hub as hub\n",
        "from keras import backend as K\n",
        "from keras import initializers, regularizers, constraints\n",
        "import keras.layers as layers\n",
        "from keras.models import Model, Sequential, load_model\n",
        "from keras.engine.topology import Layer\n",
        "from flair.data import Sentence\n",
        "from flair.embeddings import ELMoEmbeddings"
      ],
      "execution_count": 1,
      "outputs": [
        {
          "output_type": "display_data",
          "data": {
            "text/html": [
              "<p style=\"color: red;\">\n",
              "The default version of TensorFlow in Colab will soon switch to TensorFlow 2.x.<br>\n",
              "We recommend you <a href=\"https://www.tensorflow.org/guide/migrate\" target=\"_blank\">upgrade</a> now \n",
              "or ensure your notebook will continue to use TensorFlow 1.x via the <code>%tensorflow_version 1.x</code> magic:\n",
              "<a href=\"https://colab.research.google.com/notebooks/tensorflow_version.ipynb\" target=\"_blank\">more info</a>.</p>\n"
            ],
            "text/plain": [
              "<IPython.core.display.HTML object>"
            ]
          },
          "metadata": {
            "tags": []
          }
        },
        {
          "output_type": "stream",
          "text": [
            "Using TensorFlow backend.\n"
          ],
          "name": "stderr"
        }
      ]
    },
    {
      "cell_type": "code",
      "metadata": {
        "id": "MCBgXwMZkXOj",
        "colab_type": "code",
        "colab": {}
      },
      "source": [
        "# Reading in the data from text files\n",
        "def read_data_from_txt(filename, label):\n",
        "  data = {}\n",
        "  data['sentence'] = []\n",
        "  data['label'] = []\n",
        "  with open(filename, 'r') as f:\n",
        "    for line in f:\n",
        "      data['sentence'].append(line)\n",
        "      data['label'].append(label)\n",
        "\n",
        "  data_df = pd.DataFrame(data)\n",
        "  return data_df"
      ],
      "execution_count": 0,
      "outputs": []
    },
    {
      "cell_type": "code",
      "metadata": {
        "id": "20n2smwNkzwz",
        "colab_type": "code",
        "outputId": "e36119cf-5808-4017-f734-2c1d2599546f",
        "colab": {
          "base_uri": "https://localhost:8080/",
          "height": 206
        }
      },
      "source": [
        "biased_data = read_data_from_txt('biased.txt', 1)\n",
        "biased_data.head()"
      ],
      "execution_count": 3,
      "outputs": [
        {
          "output_type": "execute_result",
          "data": {
            "text/html": [
              "<div>\n",
              "<style scoped>\n",
              "    .dataframe tbody tr th:only-of-type {\n",
              "        vertical-align: middle;\n",
              "    }\n",
              "\n",
              "    .dataframe tbody tr th {\n",
              "        vertical-align: top;\n",
              "    }\n",
              "\n",
              "    .dataframe thead th {\n",
              "        text-align: right;\n",
              "    }\n",
              "</style>\n",
              "<table border=\"1\" class=\"dataframe\">\n",
              "  <thead>\n",
              "    <tr style=\"text-align: right;\">\n",
              "      <th></th>\n",
              "      <th>sentence</th>\n",
              "      <th>label</th>\n",
              "    </tr>\n",
              "  </thead>\n",
              "  <tbody>\n",
              "    <tr>\n",
              "      <th>0</th>\n",
              "      <td>David J. Hanson Ph.D., Professor Emeritus of S...</td>\n",
              "      <td>1</td>\n",
              "    </tr>\n",
              "    <tr>\n",
              "      <th>1</th>\n",
              "      <td>While he continually puts forth these findings...</td>\n",
              "      <td>1</td>\n",
              "    </tr>\n",
              "    <tr>\n",
              "      <th>2</th>\n",
              "      <td>According to the Iranian government, the shoot...</td>\n",
              "      <td>1</td>\n",
              "    </tr>\n",
              "    <tr>\n",
              "      <th>3</th>\n",
              "      <td>Games revolving around the kicking of a ball t...</td>\n",
              "      <td>1</td>\n",
              "    </tr>\n",
              "    <tr>\n",
              "      <th>4</th>\n",
              "      <td>Irgun, shorthand for Irgun Tsvai Leumi, also s...</td>\n",
              "      <td>1</td>\n",
              "    </tr>\n",
              "  </tbody>\n",
              "</table>\n",
              "</div>"
            ],
            "text/plain": [
              "                                            sentence  label\n",
              "0  David J. Hanson Ph.D., Professor Emeritus of S...      1\n",
              "1  While he continually puts forth these findings...      1\n",
              "2  According to the Iranian government, the shoot...      1\n",
              "3  Games revolving around the kicking of a ball t...      1\n",
              "4  Irgun, shorthand for Irgun Tsvai Leumi, also s...      1"
            ]
          },
          "metadata": {
            "tags": []
          },
          "execution_count": 3
        }
      ]
    },
    {
      "cell_type": "code",
      "metadata": {
        "id": "sthHg9IonjIH",
        "colab_type": "code",
        "outputId": "370b8d97-4033-47de-da98-443dd7a9a100",
        "colab": {
          "base_uri": "https://localhost:8080/",
          "height": 35
        }
      },
      "source": [
        "biased_data.shape"
      ],
      "execution_count": 4,
      "outputs": [
        {
          "output_type": "execute_result",
          "data": {
            "text/plain": [
              "(1843, 2)"
            ]
          },
          "metadata": {
            "tags": []
          },
          "execution_count": 4
        }
      ]
    },
    {
      "cell_type": "code",
      "metadata": {
        "id": "CrupBdLink8O",
        "colab_type": "code",
        "outputId": "ce5663e2-72a3-4978-f178-da79f2ac4c51",
        "colab": {
          "base_uri": "https://localhost:8080/",
          "height": 206
        }
      },
      "source": [
        "neutral_hard_data = read_data_from_txt('neutral_cw-hard.txt', 0)\n",
        "neutral_hard_data.head()"
      ],
      "execution_count": 5,
      "outputs": [
        {
          "output_type": "execute_result",
          "data": {
            "text/html": [
              "<div>\n",
              "<style scoped>\n",
              "    .dataframe tbody tr th:only-of-type {\n",
              "        vertical-align: middle;\n",
              "    }\n",
              "\n",
              "    .dataframe tbody tr th {\n",
              "        vertical-align: top;\n",
              "    }\n",
              "\n",
              "    .dataframe thead th {\n",
              "        text-align: right;\n",
              "    }\n",
              "</style>\n",
              "<table border=\"1\" class=\"dataframe\">\n",
              "  <thead>\n",
              "    <tr style=\"text-align: right;\">\n",
              "      <th></th>\n",
              "      <th>sentence</th>\n",
              "      <th>label</th>\n",
              "    </tr>\n",
              "  </thead>\n",
              "  <tbody>\n",
              "    <tr>\n",
              "      <th>0</th>\n",
              "      <td>The success of BJJ versus the other martial ar...</td>\n",
              "      <td>0</td>\n",
              "    </tr>\n",
              "    <tr>\n",
              "      <th>1</th>\n",
              "      <td>In all the games, the player is put in command...</td>\n",
              "      <td>0</td>\n",
              "    </tr>\n",
              "    <tr>\n",
              "      <th>2</th>\n",
              "      <td>Potwari ( , also known as Pothohari or Pahari-...</td>\n",
              "      <td>0</td>\n",
              "    </tr>\n",
              "    <tr>\n",
              "      <th>3</th>\n",
              "      <td>Hekmatyar's group, who, in October 1975, under...</td>\n",
              "      <td>0</td>\n",
              "    </tr>\n",
              "    <tr>\n",
              "      <th>4</th>\n",
              "      <td>After the Battle of Nicopolis in 1396 and the ...</td>\n",
              "      <td>0</td>\n",
              "    </tr>\n",
              "  </tbody>\n",
              "</table>\n",
              "</div>"
            ],
            "text/plain": [
              "                                            sentence  label\n",
              "0  The success of BJJ versus the other martial ar...      0\n",
              "1  In all the games, the player is put in command...      0\n",
              "2  Potwari ( , also known as Pothohari or Pahari-...      0\n",
              "3  Hekmatyar's group, who, in October 1975, under...      0\n",
              "4  After the Battle of Nicopolis in 1396 and the ...      0"
            ]
          },
          "metadata": {
            "tags": []
          },
          "execution_count": 5
        }
      ]
    },
    {
      "cell_type": "code",
      "metadata": {
        "id": "4FEf4WKin3Qe",
        "colab_type": "code",
        "outputId": "4f4ed578-3053-4aa0-892c-be2914cf3d12",
        "colab": {
          "base_uri": "https://localhost:8080/",
          "height": 35
        }
      },
      "source": [
        "neutral_hard_data.shape"
      ],
      "execution_count": 6,
      "outputs": [
        {
          "output_type": "execute_result",
          "data": {
            "text/plain": [
              "(3109, 2)"
            ]
          },
          "metadata": {
            "tags": []
          },
          "execution_count": 6
        }
      ]
    },
    {
      "cell_type": "code",
      "metadata": {
        "id": "f_MdNvl6oA_Y",
        "colab_type": "code",
        "outputId": "ab6a44e8-0837-495d-fed7-f2979fe6b85f",
        "colab": {
          "base_uri": "https://localhost:8080/",
          "height": 206
        }
      },
      "source": [
        "neutral_featured_data = read_data_from_txt('neutral_featured.txt', 0)\n",
        "neutral_featured_data.head()"
      ],
      "execution_count": 7,
      "outputs": [
        {
          "output_type": "execute_result",
          "data": {
            "text/html": [
              "<div>\n",
              "<style scoped>\n",
              "    .dataframe tbody tr th:only-of-type {\n",
              "        vertical-align: middle;\n",
              "    }\n",
              "\n",
              "    .dataframe tbody tr th {\n",
              "        vertical-align: top;\n",
              "    }\n",
              "\n",
              "    .dataframe thead th {\n",
              "        text-align: right;\n",
              "    }\n",
              "</style>\n",
              "<table border=\"1\" class=\"dataframe\">\n",
              "  <thead>\n",
              "    <tr style=\"text-align: right;\">\n",
              "      <th></th>\n",
              "      <th>sentence</th>\n",
              "      <th>label</th>\n",
              "    </tr>\n",
              "  </thead>\n",
              "  <tbody>\n",
              "    <tr>\n",
              "      <th>0</th>\n",
              "      <td>Astatine was first produced by bombarding bism...</td>\n",
              "      <td>0</td>\n",
              "    </tr>\n",
              "    <tr>\n",
              "      <th>1</th>\n",
              "      <td>The hatched young, called squabs, are strongly...</td>\n",
              "      <td>0</td>\n",
              "    </tr>\n",
              "    <tr>\n",
              "      <th>2</th>\n",
              "      <td>In spite of early successes against invading I...</td>\n",
              "      <td>0</td>\n",
              "    </tr>\n",
              "    <tr>\n",
              "      <th>3</th>\n",
              "      <td>The Trojans trailed 10–3 going into halftime, ...</td>\n",
              "      <td>0</td>\n",
              "    </tr>\n",
              "    <tr>\n",
              "      <th>4</th>\n",
              "      <td>These bats possess long muzzles and long, exte...</td>\n",
              "      <td>0</td>\n",
              "    </tr>\n",
              "  </tbody>\n",
              "</table>\n",
              "</div>"
            ],
            "text/plain": [
              "                                            sentence  label\n",
              "0  Astatine was first produced by bombarding bism...      0\n",
              "1  The hatched young, called squabs, are strongly...      0\n",
              "2  In spite of early successes against invading I...      0\n",
              "3  The Trojans trailed 10–3 going into halftime, ...      0\n",
              "4  These bats possess long muzzles and long, exte...      0"
            ]
          },
          "metadata": {
            "tags": []
          },
          "execution_count": 7
        }
      ]
    },
    {
      "cell_type": "code",
      "metadata": {
        "id": "jfF-3ixZoawm",
        "colab_type": "code",
        "outputId": "ad9b5d7a-cc9b-48ef-eb73-fe2ce33223a8",
        "colab": {
          "base_uri": "https://localhost:8080/",
          "height": 35
        }
      },
      "source": [
        "neutral_featured_data.shape"
      ],
      "execution_count": 8,
      "outputs": [
        {
          "output_type": "execute_result",
          "data": {
            "text/plain": [
              "(5000, 2)"
            ]
          },
          "metadata": {
            "tags": []
          },
          "execution_count": 8
        }
      ]
    },
    {
      "cell_type": "code",
      "metadata": {
        "id": "yzFEix6nofj3",
        "colab_type": "code",
        "outputId": "88f3c821-e072-43d7-a303-eab70d6f6baa",
        "colab": {
          "base_uri": "https://localhost:8080/",
          "height": 206
        }
      },
      "source": [
        "neutral_type_balanced_data = read_data_from_txt('neutral_type_balanced.txt', 0)\n",
        "neutral_type_balanced_data.head()"
      ],
      "execution_count": 9,
      "outputs": [
        {
          "output_type": "execute_result",
          "data": {
            "text/html": [
              "<div>\n",
              "<style scoped>\n",
              "    .dataframe tbody tr th:only-of-type {\n",
              "        vertical-align: middle;\n",
              "    }\n",
              "\n",
              "    .dataframe tbody tr th {\n",
              "        vertical-align: top;\n",
              "    }\n",
              "\n",
              "    .dataframe thead th {\n",
              "        text-align: right;\n",
              "    }\n",
              "</style>\n",
              "<table border=\"1\" class=\"dataframe\">\n",
              "  <thead>\n",
              "    <tr style=\"text-align: right;\">\n",
              "      <th></th>\n",
              "      <th>sentence</th>\n",
              "      <th>label</th>\n",
              "    </tr>\n",
              "  </thead>\n",
              "  <tbody>\n",
              "    <tr>\n",
              "      <th>0</th>\n",
              "      <td>Other functions of the haemolymph include woun...</td>\n",
              "      <td>0</td>\n",
              "    </tr>\n",
              "    <tr>\n",
              "      <th>1</th>\n",
              "      <td>It was the fourth best-selling game of 2008, s...</td>\n",
              "      <td>0</td>\n",
              "    </tr>\n",
              "    <tr>\n",
              "      <th>2</th>\n",
              "      <td>Sherwood Springer's \"No Land of Nod\", in the s...</td>\n",
              "      <td>0</td>\n",
              "    </tr>\n",
              "    <tr>\n",
              "      <th>3</th>\n",
              "      <td>The Red Sox, winners of five of the first sixt...</td>\n",
              "      <td>0</td>\n",
              "    </tr>\n",
              "    <tr>\n",
              "      <th>4</th>\n",
              "      <td>The final part addresses the actual rise of al...</td>\n",
              "      <td>0</td>\n",
              "    </tr>\n",
              "  </tbody>\n",
              "</table>\n",
              "</div>"
            ],
            "text/plain": [
              "                                            sentence  label\n",
              "0  Other functions of the haemolymph include woun...      0\n",
              "1  It was the fourth best-selling game of 2008, s...      0\n",
              "2  Sherwood Springer's \"No Land of Nod\", in the s...      0\n",
              "3  The Red Sox, winners of five of the first sixt...      0\n",
              "4  The final part addresses the actual rise of al...      0"
            ]
          },
          "metadata": {
            "tags": []
          },
          "execution_count": 9
        }
      ]
    },
    {
      "cell_type": "code",
      "metadata": {
        "id": "1ZqAYnaoptCR",
        "colab_type": "code",
        "outputId": "87417e16-75cf-427c-9b30-faa4fc242fb7",
        "colab": {
          "base_uri": "https://localhost:8080/",
          "height": 35
        }
      },
      "source": [
        "neutral_type_balanced_data.shape"
      ],
      "execution_count": 10,
      "outputs": [
        {
          "output_type": "execute_result",
          "data": {
            "text/plain": [
              "(1994, 2)"
            ]
          },
          "metadata": {
            "tags": []
          },
          "execution_count": 10
        }
      ]
    },
    {
      "cell_type": "markdown",
      "metadata": {
        "id": "fNAcK1WxqABg",
        "colab_type": "text"
      },
      "source": [
        "### Number of Samples:\n",
        "1.   Biased Data: 1843\n",
        "2.   Neutral CW-Hard: 3109\n",
        "3.   Neutral Featured: 5000\n",
        "4.   Neutral Type-balanced: 1994\n",
        "\n"
      ]
    },
    {
      "cell_type": "code",
      "metadata": {
        "id": "OXxQqUcRpywW",
        "colab_type": "code",
        "outputId": "a1790d25-95cc-441e-db36-f38721c798f3",
        "colab": {
          "base_uri": "https://localhost:8080/",
          "height": 35
        }
      },
      "source": [
        "# taking equal number of neutral sentences\n",
        "neutral_type_balanced_data = neutral_type_balanced_data[:len(biased_data)]\n",
        "neutral_type_balanced_data.shape"
      ],
      "execution_count": 11,
      "outputs": [
        {
          "output_type": "execute_result",
          "data": {
            "text/plain": [
              "(1843, 2)"
            ]
          },
          "metadata": {
            "tags": []
          },
          "execution_count": 11
        }
      ]
    },
    {
      "cell_type": "code",
      "metadata": {
        "id": "m9rrh4tfb67F",
        "colab_type": "code",
        "colab": {}
      },
      "source": [
        "# concatenating and shuffling the data\n",
        "text_data = pd.concat([biased_data, neutral_type_balanced_data]).sample(frac=1).reset_index(drop=True)"
      ],
      "execution_count": 0,
      "outputs": []
    },
    {
      "cell_type": "code",
      "metadata": {
        "id": "OX3MnrPtdPGp",
        "colab_type": "code",
        "outputId": "7bb4a549-6233-4914-bda5-4f16aaeaf605",
        "colab": {
          "base_uri": "https://localhost:8080/",
          "height": 35
        }
      },
      "source": [
        "text_data.shape"
      ],
      "execution_count": 13,
      "outputs": [
        {
          "output_type": "execute_result",
          "data": {
            "text/plain": [
              "(3686, 2)"
            ]
          },
          "metadata": {
            "tags": []
          },
          "execution_count": 13
        }
      ]
    },
    {
      "cell_type": "code",
      "metadata": {
        "id": "NibhnbWQdRMV",
        "colab_type": "code",
        "outputId": "80c800e3-65c2-423f-c323-6989f390a682",
        "colab": {
          "base_uri": "https://localhost:8080/",
          "height": 206
        }
      },
      "source": [
        "text_data.head()"
      ],
      "execution_count": 14,
      "outputs": [
        {
          "output_type": "execute_result",
          "data": {
            "text/html": [
              "<div>\n",
              "<style scoped>\n",
              "    .dataframe tbody tr th:only-of-type {\n",
              "        vertical-align: middle;\n",
              "    }\n",
              "\n",
              "    .dataframe tbody tr th {\n",
              "        vertical-align: top;\n",
              "    }\n",
              "\n",
              "    .dataframe thead th {\n",
              "        text-align: right;\n",
              "    }\n",
              "</style>\n",
              "<table border=\"1\" class=\"dataframe\">\n",
              "  <thead>\n",
              "    <tr style=\"text-align: right;\">\n",
              "      <th></th>\n",
              "      <th>sentence</th>\n",
              "      <th>label</th>\n",
              "    </tr>\n",
              "  </thead>\n",
              "  <tbody>\n",
              "    <tr>\n",
              "      <th>0</th>\n",
              "      <td>He and his second wife had four children: Moon...</td>\n",
              "      <td>0</td>\n",
              "    </tr>\n",
              "    <tr>\n",
              "      <th>1</th>\n",
              "      <td>As such, it continues to generate extensive an...</td>\n",
              "      <td>1</td>\n",
              "    </tr>\n",
              "    <tr>\n",
              "      <th>2</th>\n",
              "      <td>Politically progressive organizations Fairness...</td>\n",
              "      <td>1</td>\n",
              "    </tr>\n",
              "    <tr>\n",
              "      <th>3</th>\n",
              "      <td>Soon after the First World War, in the wake of...</td>\n",
              "      <td>0</td>\n",
              "    </tr>\n",
              "    <tr>\n",
              "      <th>4</th>\n",
              "      <td>The Canberra Museum and Gallery in the city is...</td>\n",
              "      <td>0</td>\n",
              "    </tr>\n",
              "  </tbody>\n",
              "</table>\n",
              "</div>"
            ],
            "text/plain": [
              "                                            sentence  label\n",
              "0  He and his second wife had four children: Moon...      0\n",
              "1  As such, it continues to generate extensive an...      1\n",
              "2  Politically progressive organizations Fairness...      1\n",
              "3  Soon after the First World War, in the wake of...      0\n",
              "4  The Canberra Museum and Gallery in the city is...      0"
            ]
          },
          "metadata": {
            "tags": []
          },
          "execution_count": 14
        }
      ]
    },
    {
      "cell_type": "markdown",
      "metadata": {
        "id": "1ABZ06WsdcBD",
        "colab_type": "text"
      },
      "source": [
        "### Creating custom Elmo Embedding Layer"
      ]
    },
    {
      "cell_type": "code",
      "metadata": {
        "id": "hstl0DNL_nC5",
        "colab_type": "code",
        "colab": {}
      },
      "source": [
        "maxlen = 50\n",
        "max_words = 10000"
      ],
      "execution_count": 0,
      "outputs": []
    },
    {
      "cell_type": "code",
      "metadata": {
        "id": "mcXDCv3I3oT1",
        "colab_type": "code",
        "colab": {}
      },
      "source": [
        "# to compute fmeasure as custom metric\n",
        "def f1(y_true, y_pred):\n",
        "    def recall(y_true, y_pred):\n",
        "        \"\"\"Recall metric.\n",
        "\n",
        "        Only computes a batch-wise average of recall.\n",
        "\n",
        "        Computes the recall, a metric for multi-label classification of\n",
        "        how many relevant items are selected.\n",
        "        \"\"\"\n",
        "        true_positives = K.sum(K.round(K.clip(y_true * y_pred, 0, 1)))\n",
        "        possible_positives = K.sum(K.round(K.clip(y_true, 0, 1)))\n",
        "        recall = true_positives / (possible_positives + K.epsilon())\n",
        "        return recall\n",
        "\n",
        "    def precision(y_true, y_pred):\n",
        "        \"\"\"Precision metric.\n",
        "\n",
        "        Only computes a batch-wise average of precision.\n",
        "\n",
        "        Computes the precision, a metric for multi-label classification of\n",
        "        how many selected items are relevant.\n",
        "        \"\"\"\n",
        "        true_positives = K.sum(K.round(K.clip(y_true * y_pred, 0, 1)))\n",
        "        predicted_positives = K.sum(K.round(K.clip(y_pred, 0, 1)))\n",
        "        precision = true_positives / (predicted_positives + K.epsilon())\n",
        "        return precision\n",
        "    precision = precision(y_true, y_pred)\n",
        "    recall = recall(y_true, y_pred)\n",
        "    return 2*((precision*recall)/(precision+recall+K.epsilon()))"
      ],
      "execution_count": 0,
      "outputs": []
    },
    {
      "cell_type": "code",
      "metadata": {
        "id": "4wOwQcfI4H7j",
        "colab_type": "code",
        "colab": {}
      },
      "source": [
        "# helper function to plot the results\n",
        "def plot_result(history):\n",
        "  acc = history.history['acc']\n",
        "  val_acc = history.history['val_acc']\n",
        "  loss = history.history['loss']\n",
        "  val_loss = history.history['val_loss']\n",
        "  f1 = history.history['f1']\n",
        "  val_f1 = history.history['val_f1']\n",
        "  \n",
        "  epochs = range(1, len(acc)+1)\n",
        "\n",
        "  plt.plot(epochs, acc, label='Training acc')\n",
        "  plt.plot(epochs, val_acc, label='Validation acc')\n",
        "  plt.title('Training and validation accuracy')\n",
        "  plt.xlabel('epochs')\n",
        "  plt.ylabel('acc')\n",
        "  plt.legend()\n",
        "\n",
        "  plt.figure()\n",
        "\n",
        "  plt.plot(epochs, loss, label='Training loss')\n",
        "  plt.plot(epochs, val_loss, label='Validation loss')\n",
        "  plt.title('Training and validation loss')\n",
        "  plt.xlabel('epochs')\n",
        "  plt.ylabel('loss')\n",
        "  plt.legend()\n",
        "\n",
        "  plt.figure()\n",
        "\n",
        "  plt.plot(epochs, f1, label='Training fmeasure')\n",
        "  plt.plot(epochs, val_f1, label='Validation fmeasure')\n",
        "  plt.title('Training and validation fmeasure')\n",
        "  plt.xlabel('epochs')\n",
        "  plt.ylabel('f1')\n",
        "  plt.legend()\n",
        "  \n",
        "  plt.show()"
      ],
      "execution_count": 0,
      "outputs": []
    },
    {
      "cell_type": "code",
      "metadata": {
        "id": "0PcFulj23e7S",
        "colab_type": "code",
        "colab": {}
      },
      "source": [
        "# Create dataset taking max 50 words in each sentence\n",
        "data = text_data['sentence'].tolist()\n",
        "data = [' '.join(t.split()[:maxlen]) for t in data]\n",
        "data = np.array(data, dtype=object)[:, np.newaxis]\n",
        "label = text_data['label'].tolist()"
      ],
      "execution_count": 0,
      "outputs": []
    },
    {
      "cell_type": "code",
      "metadata": {
        "id": "1aMwaVkXaxNY",
        "colab_type": "code",
        "colab": {}
      },
      "source": [
        "flatten_data = data.flatten()"
      ],
      "execution_count": 0,
      "outputs": []
    },
    {
      "cell_type": "code",
      "metadata": {
        "id": "XbBYfFZQbneZ",
        "colab_type": "code",
        "colab": {}
      },
      "source": [
        "def dot_product(x, kernel):\n",
        "    \"\"\"\n",
        "    Wrapper for dot product operation, in order to be compatible with both\n",
        "    Theano and Tensorflow\n",
        "    Args:\n",
        "        x (): input\n",
        "        kernel (): weights\n",
        "    Returns:\n",
        "    \"\"\"\n",
        "    if K.backend() == 'tensorflow':\n",
        "        return K.squeeze(K.dot(x, K.expand_dims(kernel)), axis=-1)\n",
        "    else:\n",
        "        return K.dot(x, kernel)\n",
        "    \n",
        "\n",
        "class AttentionWithContext(Layer):\n",
        "    \"\"\"\n",
        "    Attention operation, with a context/query vector, for temporal data.\n",
        "    Supports Masking.\n",
        "    Follows the work of Yang et al. [https://www.cs.cmu.edu/~diyiy/docs/naacl16.pdf]\n",
        "    \"Hierarchical Attention Networks for Document Classification\"\n",
        "    by using a context vector to assist the attention\n",
        "    # Input shape\n",
        "        3D tensor with shape: `(samples, steps, features)`.\n",
        "    # Output shape\n",
        "        2D tensor with shape: `(samples, features)`.\n",
        "    How to use:\n",
        "    Just put it on top of an RNN Layer (GRU/LSTM/SimpleRNN) with return_sequences=True.\n",
        "    The dimensions are inferred based on the output shape of the RNN.\n",
        "    Note: The layer has been tested with Keras 2.0.6\n",
        "    Example:\n",
        "        model.add(LSTM(64, return_sequences=True))\n",
        "        model.add(AttentionWithContext())\n",
        "        # next add a Dense layer (for classification/regression) or whatever...\n",
        "    \"\"\"\n",
        "    def __init__(self,\n",
        "                 W_regularizer=None, u_regularizer=None, b_regularizer=None,\n",
        "                 W_constraint=None, u_constraint=None, b_constraint=None,\n",
        "                 bias=True, **kwargs):\n",
        "\n",
        "        self.supports_masking = True\n",
        "        self.init = initializers.get('glorot_uniform')\n",
        "\n",
        "        self.W_regularizer = regularizers.get(W_regularizer)\n",
        "        self.u_regularizer = regularizers.get(u_regularizer)\n",
        "        self.b_regularizer = regularizers.get(b_regularizer)\n",
        "\n",
        "        self.W_constraint = constraints.get(W_constraint)\n",
        "        self.u_constraint = constraints.get(u_constraint)\n",
        "        self.b_constraint = constraints.get(b_constraint)\n",
        "\n",
        "        self.bias = bias\n",
        "        super(AttentionWithContext, self).__init__(**kwargs)\n",
        "\n",
        "    def build(self, input_shape):\n",
        "        assert len(input_shape) == 3\n",
        "\n",
        "        self.W = self.add_weight((input_shape[-1], input_shape[-1],),\n",
        "                                 initializer=self.init,\n",
        "                                 name='{}_W'.format(self.name),\n",
        "                                 regularizer=self.W_regularizer,\n",
        "                                 constraint=self.W_constraint)\n",
        "        if self.bias:\n",
        "            self.b = self.add_weight((input_shape[-1],),\n",
        "                                     initializer='zero',\n",
        "                                     name='{}_b'.format(self.name),\n",
        "                                     regularizer=self.b_regularizer,\n",
        "                                     constraint=self.b_constraint)\n",
        "\n",
        "        self.u = self.add_weight((input_shape[-1],),\n",
        "                                 initializer=self.init,\n",
        "                                 name='{}_u'.format(self.name),\n",
        "                                 regularizer=self.u_regularizer,\n",
        "                                 constraint=self.u_constraint)\n",
        "\n",
        "        super(AttentionWithContext, self).build(input_shape)\n",
        "\n",
        "    def compute_mask(self, input, input_mask=None):\n",
        "        # do not pass the mask to the next layers\n",
        "        return None\n",
        "\n",
        "    def call(self, x, mask=None):\n",
        "        uit = dot_product(x, self.W)\n",
        "\n",
        "        if self.bias:\n",
        "            uit += self.b\n",
        "\n",
        "        uit = K.tanh(uit)\n",
        "        ait = dot_product(uit, self.u)\n",
        "\n",
        "        a = K.exp(ait)\n",
        "\n",
        "        # apply mask after the exp. will be re-normalized next\n",
        "        if mask is not None:\n",
        "            # Cast the mask to floatX to avoid float64 upcasting in theano\n",
        "            a *= K.cast(mask, K.floatx())\n",
        "\n",
        "        # in some cases especially in the early stages of training the sum may be almost zero\n",
        "        # and this results in NaN's. A workaround is to add a very small positive number ε to the sum.\n",
        "        # a /= K.cast(K.sum(a, axis=1, keepdims=True), K.floatx())\n",
        "        a /= K.cast(K.sum(a, axis=1, keepdims=True) + K.epsilon(), K.floatx())\n",
        "\n",
        "        a = K.expand_dims(a)\n",
        "        weighted_input = x * a\n",
        "        return K.sum(weighted_input, axis=1)\n",
        "\n",
        "    def compute_output_shape(self, input_shape):\n",
        "        return input_shape[0], input_shape[-1]"
      ],
      "execution_count": 0,
      "outputs": []
    },
    {
      "cell_type": "markdown",
      "metadata": {
        "id": "_bSCpOXOKat4",
        "colab_type": "text"
      },
      "source": [
        "### Building Elmo Embedding"
      ]
    },
    {
      "cell_type": "code",
      "metadata": {
        "id": "WIbs13BmDDfS",
        "colab_type": "code",
        "colab": {
          "base_uri": "https://localhost:8080/",
          "height": 72
        },
        "outputId": "303663d4-1179-4852-beae-cab5f5bfac79"
      },
      "source": [
        "# init embedding\n",
        "embedding = ELMoEmbeddings()\n",
        "\n",
        "# Embedding array - [3686, 50, 3072]\n",
        "elmo_embedding = []\n",
        "for sent in flatten_data:\n",
        "  sent_embedding = []\n",
        "  sent = sent.split()[:50]\n",
        "  sent.extend(['PAD']*(50-len(sent)))\n",
        "  sent = ' '.join(sent)  \n",
        "  sentence = Sentence(sent)\n",
        "  embedding.embed(sentence)\n",
        "  for token in sentence:\n",
        "    sent_embedding.append(token.embedding.cpu().numpy())\n",
        "  elmo_embedding.append(np.array(sent_embedding))\n",
        "elmo_embedding = np.array(elmo_embedding)\n",
        "print(elmo_embedding.shape)"
      ],
      "execution_count": 26,
      "outputs": [
        {
          "output_type": "stream",
          "text": [
            "100%|██████████| 336/336 [00:00<00:00, 439577.71B/s]\n",
            "100%|██████████| 374434792/374434792 [00:09<00:00, 40485007.18B/s]\n"
          ],
          "name": "stderr"
        },
        {
          "output_type": "stream",
          "text": [
            "(3686, 50, 3072)\n"
          ],
          "name": "stdout"
        }
      ]
    },
    {
      "cell_type": "code",
      "metadata": {
        "id": "BcZBGTHc_D77",
        "colab_type": "code",
        "colab": {}
      },
      "source": [
        "# build the model 1\n",
        "def build_elmo_dense():\n",
        "  \"\"\" Using Dense layer over elmo-embedding layer \"\"\"\n",
        "  inp = layers.Input(shape=(maxlen, 3072,))\n",
        "  dense = layers.Dense(64, activation='relu')(inp)\n",
        "  x = layers.Dropout(0.5)(dense)\n",
        "  x = layers.Flatten()(x)\n",
        "  pred = layers.Dense(1, activation='sigmoid')(x)\n",
        "  model = Model(inputs=inp, outputs=pred)\n",
        "  model.compile(loss='binary_crossentropy',\n",
        "                optimizer='rmsprop',\n",
        "                metrics=['accuracy', f1])\n",
        "  model.summary()\n",
        "  return model"
      ],
      "execution_count": 0,
      "outputs": []
    },
    {
      "cell_type": "code",
      "metadata": {
        "id": "8iM30L2S_D4O",
        "colab_type": "code",
        "colab": {
          "base_uri": "https://localhost:8080/",
          "height": 348
        },
        "outputId": "f6c6615b-e0d6-49ee-c05a-5f59186df5a4"
      },
      "source": [
        "elmo_dense = build_elmo_dense()"
      ],
      "execution_count": 67,
      "outputs": [
        {
          "output_type": "stream",
          "text": [
            "Model: \"model_11\"\n",
            "_________________________________________________________________\n",
            "Layer (type)                 Output Shape              Param #   \n",
            "=================================================================\n",
            "input_15 (InputLayer)        (None, 50, 3072)          0         \n",
            "_________________________________________________________________\n",
            "dense_26 (Dense)             (None, 50, 64)            196672    \n",
            "_________________________________________________________________\n",
            "dropout_4 (Dropout)          (None, 50, 64)            0         \n",
            "_________________________________________________________________\n",
            "flatten_4 (Flatten)          (None, 3200)              0         \n",
            "_________________________________________________________________\n",
            "dense_27 (Dense)             (None, 1)                 3201      \n",
            "=================================================================\n",
            "Total params: 199,873\n",
            "Trainable params: 199,873\n",
            "Non-trainable params: 0\n",
            "_________________________________________________________________\n"
          ],
          "name": "stdout"
        }
      ]
    },
    {
      "cell_type": "code",
      "metadata": {
        "id": "X5Ja3EpP_D0K",
        "colab_type": "code",
        "colab": {
          "base_uri": "https://localhost:8080/",
          "height": 202
        },
        "outputId": "5c41ed2a-9f78-48d3-ed85-33425adc27b5"
      },
      "source": [
        "# fit the model\n",
        "history = elmo_dense.fit(elmo_embedding, label, validation_split=0.1, epochs=4, batch_size=32)"
      ],
      "execution_count": 68,
      "outputs": [
        {
          "output_type": "stream",
          "text": [
            "Train on 3317 samples, validate on 369 samples\n",
            "Epoch 1/4\n",
            "3317/3317 [==============================] - 4s 1ms/step - loss: 0.6839 - acc: 0.7163 - f1: 0.6971 - val_loss: 0.3944 - val_acc: 0.8347 - val_f1: 0.8516\n",
            "Epoch 2/4\n",
            "3317/3317 [==============================] - 2s 644us/step - loss: 0.3458 - acc: 0.8550 - f1: 0.8482 - val_loss: 0.4097 - val_acc: 0.8130 - val_f1: 0.8059\n",
            "Epoch 3/4\n",
            "3317/3317 [==============================] - 2s 609us/step - loss: 0.2508 - acc: 0.8945 - f1: 0.8896 - val_loss: 0.4247 - val_acc: 0.8211 - val_f1: 0.8381\n",
            "Epoch 4/4\n",
            "3317/3317 [==============================] - 2s 624us/step - loss: 0.1564 - acc: 0.9388 - f1: 0.9363 - val_loss: 0.4182 - val_acc: 0.8401 - val_f1: 0.8467\n"
          ],
          "name": "stdout"
        }
      ]
    },
    {
      "cell_type": "code",
      "metadata": {
        "id": "3kE0iiGw_Du0",
        "colab_type": "code",
        "colab": {
          "base_uri": "https://localhost:8080/",
          "height": 851
        },
        "outputId": "3996a730-945e-4f44-f718-f36ed77ec52c"
      },
      "source": [
        "plot_result(history)"
      ],
      "execution_count": 69,
      "outputs": [
        {
          "output_type": "display_data",
          "data": {
            "image/png": "[encoded data removed]",
            "text/plain": [
              "<Figure size 432x288 with 1 Axes>"
            ]
          },
          "metadata": {
            "tags": []
          }
        },
        {
          "output_type": "display_data",
          "data": {
            "image/png": "[encoded data removed]",
            "text/plain": [
              "<Figure size 432x288 with 1 Axes>"
            ]
          },
          "metadata": {
            "tags": []
          }
        },
        {
          "output_type": "display_data",
          "data": {
            "image/png": "[encoded data removed]",
            "text/plain": [
              "<Figure size 432x288 with 1 Axes>"
            ]
          },
          "metadata": {
            "tags": []
          }
        }
      ]
    },
    {
      "cell_type": "code",
      "metadata": {
        "id": "PsGAs9lT_Dm1",
        "colab_type": "code",
        "colab": {}
      },
      "source": [
        "#build the model 2\n",
        "def build_elmo_lstm():\n",
        "  \"\"\" Using Bidirectional-LSTM over elmo-embedding layer \"\"\"\n",
        "  inp = layers.Input(shape=(maxlen, 3072,))\n",
        "  lstm = layers.LSTM(128, dropout=0.3)(inp)\n",
        "  x = layers.Dense(64, activation='relu')(lstm)\n",
        "  pred = layers.Dense(1, activation='sigmoid')(x)\n",
        "  model = Model(inputs=inp, outputs=pred)\n",
        "  model.compile(loss='binary_crossentropy',\n",
        "                optimizer='rmsprop',\n",
        "                metrics=['accuracy', f1])\n",
        "  model.summary()\n",
        "  return model"
      ],
      "execution_count": 0,
      "outputs": []
    },
    {
      "cell_type": "code",
      "metadata": {
        "id": "QAjMqiJd_DdG",
        "colab_type": "code",
        "colab": {
          "base_uri": "https://localhost:8080/",
          "height": 311
        },
        "outputId": "c2eacb5e-76a6-4683-fd1e-1df70dc4fc26"
      },
      "source": [
        "elmo_lstm = build_elmo_lstm()"
      ],
      "execution_count": 52,
      "outputs": [
        {
          "output_type": "stream",
          "text": [
            "Model: \"model_7\"\n",
            "_________________________________________________________________\n",
            "Layer (type)                 Output Shape              Param #   \n",
            "=================================================================\n",
            "input_10 (InputLayer)        (None, 50, 3072)          0         \n",
            "_________________________________________________________________\n",
            "lstm_5 (LSTM)                (None, 128)               1638912   \n",
            "_________________________________________________________________\n",
            "dense_17 (Dense)             (None, 64)                8256      \n",
            "_________________________________________________________________\n",
            "dense_18 (Dense)             (None, 1)                 65        \n",
            "=================================================================\n",
            "Total params: 1,647,233\n",
            "Trainable params: 1,647,233\n",
            "Non-trainable params: 0\n",
            "_________________________________________________________________\n"
          ],
          "name": "stdout"
        }
      ]
    },
    {
      "cell_type": "code",
      "metadata": {
        "id": "hVMF7U74_DEd",
        "colab_type": "code",
        "colab": {
          "base_uri": "https://localhost:8080/",
          "height": 182
        },
        "outputId": "2a0f4b89-5020-4246-c09a-038c4ceea146"
      },
      "source": [
        "# fit the model\n",
        "history = elmo_lstm.fit(elmo_embedding, label, validation_split=0.1, epochs=4, batch_size=32)"
      ],
      "execution_count": 53,
      "outputs": [
        {
          "output_type": "stream",
          "text": [
            "Train on 3317 samples, validate on 369 samples\n",
            "Epoch 1/4\n",
            "3317/3317 [==============================] - 18s 5ms/step - loss: 0.5683 - acc: 0.7145 - f1: 0.7024 - val_loss: 0.5037 - val_acc: 0.7669 - val_f1: 0.8057\n",
            "Epoch 2/4\n",
            "3317/3317 [==============================] - 16s 5ms/step - loss: 0.4324 - acc: 0.8092 - f1: 0.7988 - val_loss: 0.3875 - val_acc: 0.8320 - val_f1: 0.8215\n",
            "Epoch 3/4\n",
            "3317/3317 [==============================] - 17s 5ms/step - loss: 0.3532 - acc: 0.8550 - f1: 0.8514 - val_loss: 0.3780 - val_acc: 0.8347 - val_f1: 0.8501\n",
            "Epoch 4/4\n",
            "3317/3317 [==============================] - 17s 5ms/step - loss: 0.3067 - acc: 0.8740 - f1: 0.8700 - val_loss: 0.3499 - val_acc: 0.8699 - val_f1: 0.8636\n"
          ],
          "name": "stdout"
        }
      ]
    },
    {
      "cell_type": "code",
      "metadata": {
        "id": "IiNgeQSm_Cze",
        "colab_type": "code",
        "colab": {
          "base_uri": "https://localhost:8080/",
          "height": 851
        },
        "outputId": "ef65fb92-2229-47bb-f5e6-397844881c48"
      },
      "source": [
        "plot_result(history)"
      ],
      "execution_count": 54,
      "outputs": [
        {
          "output_type": "display_data",
          "data": {
            "image/png": "[encoded data removed]",
            "text/plain": [
              "<Figure size 432x288 with 1 Axes>"
            ]
          },
          "metadata": {
            "tags": []
          }
        },
        {
          "output_type": "display_data",
          "data": {
            "image/png": "[encoded data removed]",
            "text/plain": [
              "<Figure size 432x288 with 1 Axes>"
            ]
          },
          "metadata": {
            "tags": []
          }
        },
        {
          "output_type": "display_data",
          "data": {
            "image/png": "[encoded data removed]",
            "text/plain": [
              "<Figure size 432x288 with 1 Axes>"
            ]
          },
          "metadata": {
            "tags": []
          }
        }
      ]
    },
    {
      "cell_type": "code",
      "metadata": {
        "id": "m5Hi8z0dEvbB",
        "colab_type": "code",
        "colab": {}
      },
      "source": [
        "def build_elmo_bilstm_attention():\n",
        "    inp = layers.Input(shape=(maxlen, 3072,))\n",
        "    # x = layers.Embedding(embedding_dim=3072, weights=[elmo_embedding], trainable=False)(inp)\n",
        "    x = layers.Bidirectional(layers.LSTM(64, dropout=0.5, return_sequences=True))(inp)\n",
        "    x = AttentionWithContext()(x)\n",
        "    x = layers.Dense(64, activation='relu')(x)\n",
        "    x = layers.Dropout(0.5)(x)\n",
        "    pred = layers.Dense(1, activation='sigmoid')(x)\n",
        "    model = Model(inputs=inp, outputs=pred)\n",
        "    model.compile(loss='binary_crossentropy',\n",
        "                optimizer='rmsprop',\n",
        "                metrics=['accuracy', f1])\n",
        "    model.summary()\n",
        "    return model"
      ],
      "execution_count": 0,
      "outputs": []
    },
    {
      "cell_type": "code",
      "metadata": {
        "id": "m1SaY0g8Mn-N",
        "colab_type": "code",
        "colab": {
          "base_uri": "https://localhost:8080/",
          "height": 384
        },
        "outputId": "6ed08522-6cfe-4951-b0ae-cef7841a453f"
      },
      "source": [
        "elmo_bilstm_attention = build_elmo_bilstm_attention()"
      ],
      "execution_count": 46,
      "outputs": [
        {
          "output_type": "stream",
          "text": [
            "Model: \"model_5\"\n",
            "_________________________________________________________________\n",
            "Layer (type)                 Output Shape              Param #   \n",
            "=================================================================\n",
            "input_8 (InputLayer)         (None, 50, 3072)          0         \n",
            "_________________________________________________________________\n",
            "bidirectional_3 (Bidirection (None, 50, 128)           1606144   \n",
            "_________________________________________________________________\n",
            "attention_with_context_1 (At (None, 128)               16640     \n",
            "_________________________________________________________________\n",
            "dense_13 (Dense)             (None, 64)                8256      \n",
            "_________________________________________________________________\n",
            "dropout_2 (Dropout)          (None, 64)                0         \n",
            "_________________________________________________________________\n",
            "dense_14 (Dense)             (None, 1)                 65        \n",
            "=================================================================\n",
            "Total params: 1,631,105\n",
            "Trainable params: 1,631,105\n",
            "Non-trainable params: 0\n",
            "_________________________________________________________________\n"
          ],
          "name": "stdout"
        }
      ]
    },
    {
      "cell_type": "code",
      "metadata": {
        "id": "XcTHKaLzMxIJ",
        "colab_type": "code",
        "colab": {
          "base_uri": "https://localhost:8080/",
          "height": 202
        },
        "outputId": "8a415978-9987-420f-8f4c-42ee34ab4de1"
      },
      "source": [
        "# fit the model\n",
        "history = elmo_bilstm_attention.fit(elmo_embedding, label, validation_split=0.1, epochs=4, batch_size=32)"
      ],
      "execution_count": 47,
      "outputs": [
        {
          "output_type": "stream",
          "text": [
            "Train on 3317 samples, validate on 369 samples\n",
            "Epoch 1/4\n",
            "3317/3317 [==============================] - 36s 11ms/step - loss: 0.5050 - acc: 0.7453 - f1: 0.7406 - val_loss: 0.4203 - val_acc: 0.8347 - val_f1: 0.8138\n",
            "Epoch 2/4\n",
            "3317/3317 [==============================] - 36s 11ms/step - loss: 0.3810 - acc: 0.8336 - f1: 0.8300 - val_loss: 0.3764 - val_acc: 0.8293 - val_f1: 0.8231\n",
            "Epoch 3/4\n",
            "3317/3317 [==============================] - 35s 10ms/step - loss: 0.3021 - acc: 0.8734 - f1: 0.8691 - val_loss: 0.3506 - val_acc: 0.8509 - val_f1: 0.8561\n",
            "Epoch 4/4\n",
            "3317/3317 [==============================] - 35s 11ms/step - loss: 0.2698 - acc: 0.8939 - f1: 0.8907 - val_loss: 0.4146 - val_acc: 0.8347 - val_f1: 0.8533\n"
          ],
          "name": "stdout"
        }
      ]
    },
    {
      "cell_type": "code",
      "metadata": {
        "id": "NG3zH5YjQpcj",
        "colab_type": "code",
        "colab": {
          "base_uri": "https://localhost:8080/",
          "height": 851
        },
        "outputId": "cd8818da-e4d8-4278-8066-73a0fc42db29"
      },
      "source": [
        "plot_result(history4)"
      ],
      "execution_count": 48,
      "outputs": [
        {
          "output_type": "display_data",
          "data": {
            "image/png": "[encoded data removed]",
            "text/plain": [
              "<Figure size 432x288 with 1 Axes>"
            ]
          },
          "metadata": {
            "tags": []
          }
        },
        {
          "output_type": "display_data",
          "data": {
            "image/png": "[encoded data removed]",
            "text/plain": [
              "<Figure size 432x288 with 1 Axes>"
            ]
          },
          "metadata": {
            "tags": []
          }
        },
        {
          "output_type": "display_data",
          "data": {
            "image/png": "[encoded data removed]",
            "text/plain": [
              "<Figure size 432x288 with 1 Axes>"
            ]
          },
          "metadata": {
            "tags": []
          }
        }
      ]
    },
    {
      "cell_type": "code",
      "metadata": {
        "id": "UB-6XW5wR2db",
        "colab_type": "code",
        "colab": {}
      },
      "source": [
        ""
      ],
      "execution_count": 0,
      "outputs": []
    }
  ]
}